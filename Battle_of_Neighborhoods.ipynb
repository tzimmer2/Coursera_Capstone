{
 "cells": [
  {
   "cell_type": "markdown",
   "metadata": {},
   "source": [
    "# **Capstone Project: The Battle of Neighborhoods**"
   ]
  },
  {
   "cell_type": "markdown",
   "metadata": {},
   "source": [
    "**Peer-graded assignment**"
   ]
  },
  {
   "cell_type": "markdown",
   "metadata": {},
   "source": [
    "**Tobias Zimmer**"
   ]
  },
  {
   "cell_type": "markdown",
   "metadata": {},
   "source": [
    "# Introduction - Peruvian Cuisine in New York City"
   ]
  },
  {
   "cell_type": "markdown",
   "metadata": {},
   "source": [
    "Peruvian cuisine is as diverse as its environment – an immense Pacific coast crashing against the mirage of the desert, leading up to some of the tallest peaks in the Andes mountains, and then falling back down into the dense, lush Amazon. Over centuries, the original inhabitants of Peru and their vast civilizations created an array of dishes from this tremendous biodiversity and the cuisine has continued to evolve with the myriad of cultures who have come to call the country home – Spanish, Japanese, Chinese, African, and others.\n",
    "\n",
    "Consider the famous Peruvian dish *Lomo Saltado*, for example. Lomo saltado is a popular, traditional Peruvian dish, a stir fry that typically combines marinated strips of sirloin (or other beef steak) with onions, tomatoes, french fries, and other ingredients; and is typically served with rice. The dish originated as part of the chifa tradition, the Chinese cuisine of Peru, though its popularity has made it part of the mainstream culture.\n",
    "\n",
    "With all that it has to offer, it is no wonder that the Peruvian cuisine has successfully established itself in a city like New York. However, it is still a small branch of the culinary world. Therefore, we will have a look at Peruvian restaurants in New York city and explore where the best Pisco and Ceviche can be found."
   ]
  },
  {
   "cell_type": "markdown",
   "metadata": {},
   "source": [
    "# Data"
   ]
  },
  {
   "cell_type": "markdown",
   "metadata": {},
   "source": [
    "**We will use the following data sources:**\n",
    "1. New York City data (https://cocl.us/new_york_dataset) including boroughs and neighborhoods\n",
    "2. Foursquare API to obtain venues as well as venue details"
   ]
  },
  {
   "cell_type": "markdown",
   "metadata": {},
   "source": [
    "## Five questions we want to answer with our analysis:"
   ]
  },
  {
   "cell_type": "markdown",
   "metadata": {},
   "source": [
    "#### 1. How many Peruvian restaurants exist in New York City?\n",
    "#### 2. Which borough and which neighborhood of New York City has the highest number of Peruvian restaurants?\n",
    "#### 3. Which is the best Peruvian restaurant in New York City?\n",
    "#### 4. Which borough and which neighborhood has the best Peruvian restaurants?\n",
    "#### 5. Which borough has the highest density of top-rated Peruvian restaurants?"
   ]
  },
  {
   "cell_type": "markdown",
   "metadata": {},
   "source": [
    "# Methodology:"
   ]
  },
  {
   "cell_type": "markdown",
   "metadata": {},
   "source": [
    "1. We start with defining the functions to request the required data.\n",
    "2. We then collect the list of all boroughs and neighborhoods in New York City. \n",
    "2. We identify the Peruvian restaurans in each neighborhood using the Foursquare API.\n",
    "3. We then collect venue information (ratings) for all identified restaurants.\n",
    "4. We combine geographical data (step 1) with venue data (step 3) to find and map the best areas for Peruvian cuisine."
   ]
  },
  {
   "cell_type": "markdown",
   "metadata": {},
   "source": [
    "## **1) Import packages and define functions for API requests**"
   ]
  },
  {
   "cell_type": "markdown",
   "metadata": {},
   "source": [
    "Import the packages required for this assignmen:"
   ]
  },
  {
   "cell_type": "code",
   "execution_count": 141,
   "metadata": {},
   "outputs": [
    {
     "name": "stdout",
     "output_type": "stream",
     "text": [
      "Libraries imported.\n"
     ]
    }
   ],
   "source": [
    "import pandas as pd\n",
    "import numpy as np\n",
    "pd.set_option('display.max_columns', None)\n",
    "pd.set_option('display.max_rows', None)\n",
    "import requests\n",
    "from bs4 import BeautifulSoup\n",
    "\n",
    "import geocoder\n",
    "import os\n",
    "import folium\n",
    "from geopy.geocoders import Nominatim\n",
    "\n",
    "import matplotlib.pyplot as plt\n",
    "import matplotlib.cm as cm\n",
    "import matplotlib.colors as colors\n",
    "%matplotlib inline\n",
    "\n",
    "print('Libraries imported.')"
   ]
  },
  {
   "cell_type": "markdown",
   "metadata": {},
   "source": [
    "Define a function to get the coordinates of a given location using geopy:"
   ]
  },
  {
   "cell_type": "code",
   "execution_count": 9,
   "metadata": {},
   "outputs": [],
   "source": [
    "def geo_location(address):\n",
    "    # get geo location of address\n",
    "    geolocator = Nominatim(user_agent=\"peru_nyc\")\n",
    "    location = geolocator.geocode(address)\n",
    "    latitude = location.latitude\n",
    "    longitude = location.longitude\n",
    "    return latitude,longitude"
   ]
  },
  {
   "cell_type": "markdown",
   "metadata": {},
   "source": [
    "Define a function to download the boroughs and neighborhoods data from the cocl.us dataset:"
   ]
  },
  {
   "cell_type": "code",
   "execution_count": 120,
   "metadata": {},
   "outputs": [],
   "source": [
    "def get_new_york_data():\n",
    "    url='https://cocl.us/new_york_dataset'\n",
    "    resp=requests.get(url).json()\n",
    "    features=resp['features']\n",
    "    \n",
    "    column_names = ['Borough', 'Neighborhood', 'Latitude', 'Longitude'] \n",
    "    new_york_data = pd.DataFrame(columns=column_names)\n",
    "    \n",
    "    for data in features:\n",
    "        borough = data['properties']['borough'] \n",
    "        neighborhood_name = data['properties']['name']\n",
    "        \n",
    "        neighborhood_latlon = data['geometry']['coordinates']\n",
    "        neighborhood_lat = neighborhood_latlon[1]\n",
    "        neighborhood_lon = neighborhood_latlon[0]\n",
    "    \n",
    "        new_york_data = new_york_data.append({'Borough': borough,\n",
    "                                          'Neighborhood': neighborhood_name,\n",
    "                                          'Latitude': neighborhood_lat,\n",
    "                                          'Longitude': neighborhood_lon}, ignore_index=True)\n",
    "    \n",
    "    return new_york_data"
   ]
  },
  {
   "cell_type": "markdown",
   "metadata": {},
   "source": [
    "Define a function to get venue information for given coordinates from FourSquare:"
   ]
  },
  {
   "cell_type": "code",
   "execution_count": 46,
   "metadata": {},
   "outputs": [],
   "source": [
    "def get_venues(lat,lng):\n",
    "    \n",
    "    #set variables\n",
    "    radius=1000\n",
    "    LIMIT=100000\n",
    "    CLIENT_ID = 'K3ZFWRK5KLLY5AAKAIQY14SRNVN5PBJFX0SL2Y2Y0MLOSEKO' # your Foursquare ID\n",
    "    CLIENT_SECRET = 'ZHMLD2G2SDI3GIDP4CWDPTAGZEEFVMELS03YYBHDZYXLXT2R' # your Foursquare Secret\n",
    "    VERSION = '20180323' # Foursquare API version\n",
    "  \n",
    "    url = 'https://api.foursquare.com/v2/venues/explore?&client_id={}&client_secret={}&v={}&ll={},{}&radius={}&limit={}'.format(\n",
    "            CLIENT_ID, \n",
    "            CLIENT_SECRET, \n",
    "            VERSION, \n",
    "            lat, \n",
    "            lng, \n",
    "            radius, \n",
    "            LIMIT)\n",
    "        \n",
    "    results = requests.get(url).json()\n",
    "    venue_data=results['response']['groups'][0]['items']\n",
    "    venue_details=[]\n",
    "    for row in venue_data:\n",
    "        try:\n",
    "            venue_id=row['venue']['id']\n",
    "            venue_name=row['venue']['name']\n",
    "            venue_category=row['venue']['categories'][0]['name']\n",
    "            venue_details.append([venue_id,venue_name,venue_category])\n",
    "        except KeyError:\n",
    "            pass\n",
    "        \n",
    "    column_names=['ID','Name','Category']\n",
    "    df = pd.DataFrame(venue_details,columns=column_names)\n",
    "    return df"
   ]
  },
  {
   "cell_type": "markdown",
   "metadata": {},
   "source": [
    "Define a function that requests the details of a venue using the FourSquare API:"
   ]
  },
  {
   "cell_type": "code",
   "execution_count": 142,
   "metadata": {},
   "outputs": [],
   "source": [
    "def get_venue_details(venue_id):\n",
    "        \n",
    "    CLIENT_ID = 'K3ZFWRK5KLLY5AAKAIQY14SRNVN5PBJFX0SL2Y2Y0MLOSEKO' # your Foursquare ID\n",
    "    CLIENT_SECRET = 'ZHMLD2G2SDI3GIDP4CWDPTAGZEEFVMELS03YYBHDZYXLXT2R' # your Foursquare Secret\n",
    "    VERSION = '20180323' # Foursquare API version\n",
    "   \n",
    "    url = 'https://api.foursquare.com/v2/venues/{}?&client_id={}&client_secret={}&v={}'.format(\n",
    "            venue_id,\n",
    "            CLIENT_ID, \n",
    "            CLIENT_SECRET, \n",
    "            VERSION)\n",
    "    \n",
    "    results = requests.get(url).json()\n",
    "    venue_data=results['response']['venue']\n",
    "    venue_details=[]\n",
    "    try:\n",
    "        venue_id=venue_data['id']\n",
    "        venue_name=venue_data['name']\n",
    "        venue_likes=venue_data['likes']['count']\n",
    "        venue_rating=venue_data['rating']\n",
    "        venue_tips=venue_data['tips']['count']\n",
    "        venue_details.append([venue_id,venue_name,venue_likes,venue_rating,venue_tips])\n",
    "    except KeyError:\n",
    "        pass\n",
    "        \n",
    "    column_names=['ID','Name','Likes','Rating','Tips']\n",
    "    df = pd.DataFrame(venue_details,columns=column_names)\n",
    "    return df"
   ]
  },
  {
   "cell_type": "markdown",
   "metadata": {},
   "source": [
    "## **2) Get information about boroughs and neighborhoods in New York City**"
   ]
  },
  {
   "cell_type": "markdown",
   "metadata": {},
   "source": [
    "Before we look for restaurants, we first collect data about the boroughs and neighborhoods in New York City."
   ]
  },
  {
   "cell_type": "code",
   "execution_count": 13,
   "metadata": {},
   "outputs": [],
   "source": [
    "new_york_data=get_new_york_data()"
   ]
  },
  {
   "cell_type": "code",
   "execution_count": 14,
   "metadata": {},
   "outputs": [
    {
     "data": {
      "text/html": [
       "<div>\n",
       "<style scoped>\n",
       "    .dataframe tbody tr th:only-of-type {\n",
       "        vertical-align: middle;\n",
       "    }\n",
       "\n",
       "    .dataframe tbody tr th {\n",
       "        vertical-align: top;\n",
       "    }\n",
       "\n",
       "    .dataframe thead th {\n",
       "        text-align: right;\n",
       "    }\n",
       "</style>\n",
       "<table border=\"1\" class=\"dataframe\">\n",
       "  <thead>\n",
       "    <tr style=\"text-align: right;\">\n",
       "      <th></th>\n",
       "      <th>Borough</th>\n",
       "      <th>Neighborhood</th>\n",
       "      <th>Latitude</th>\n",
       "      <th>Longitude</th>\n",
       "    </tr>\n",
       "  </thead>\n",
       "  <tbody>\n",
       "    <tr>\n",
       "      <td>0</td>\n",
       "      <td>Bronx</td>\n",
       "      <td>Wakefield</td>\n",
       "      <td>40.894705</td>\n",
       "      <td>-73.847201</td>\n",
       "    </tr>\n",
       "    <tr>\n",
       "      <td>1</td>\n",
       "      <td>Bronx</td>\n",
       "      <td>Co-op City</td>\n",
       "      <td>40.874294</td>\n",
       "      <td>-73.829939</td>\n",
       "    </tr>\n",
       "    <tr>\n",
       "      <td>2</td>\n",
       "      <td>Bronx</td>\n",
       "      <td>Eastchester</td>\n",
       "      <td>40.887556</td>\n",
       "      <td>-73.827806</td>\n",
       "    </tr>\n",
       "    <tr>\n",
       "      <td>3</td>\n",
       "      <td>Bronx</td>\n",
       "      <td>Fieldston</td>\n",
       "      <td>40.895437</td>\n",
       "      <td>-73.905643</td>\n",
       "    </tr>\n",
       "    <tr>\n",
       "      <td>4</td>\n",
       "      <td>Bronx</td>\n",
       "      <td>Riverdale</td>\n",
       "      <td>40.890834</td>\n",
       "      <td>-73.912585</td>\n",
       "    </tr>\n",
       "  </tbody>\n",
       "</table>\n",
       "</div>"
      ],
      "text/plain": [
       "  Borough Neighborhood   Latitude  Longitude\n",
       "0   Bronx    Wakefield  40.894705 -73.847201\n",
       "1   Bronx   Co-op City  40.874294 -73.829939\n",
       "2   Bronx  Eastchester  40.887556 -73.827806\n",
       "3   Bronx    Fieldston  40.895437 -73.905643\n",
       "4   Bronx    Riverdale  40.890834 -73.912585"
      ]
     },
     "execution_count": 14,
     "metadata": {},
     "output_type": "execute_result"
    }
   ],
   "source": [
    "new_york_data.head()"
   ]
  },
  {
   "cell_type": "code",
   "execution_count": 15,
   "metadata": {},
   "outputs": [
    {
     "data": {
      "text/plain": [
       "(306, 4)"
      ]
     },
     "execution_count": 15,
     "metadata": {},
     "output_type": "execute_result"
    }
   ],
   "source": [
    "new_york_data.shape"
   ]
  },
  {
   "cell_type": "markdown",
   "metadata": {},
   "source": [
    "We can see that there are 306 neighborhoods in New York City."
   ]
  },
  {
   "cell_type": "markdown",
   "metadata": {},
   "source": [
    "How are these 306 neighborhoods distributed among the boroughs? We group the data and plot the distribution:"
   ]
  },
  {
   "cell_type": "code",
   "execution_count": 92,
   "metadata": {},
   "outputs": [
    {
     "data": {
      "image/png": "[encoded data removed]",
      "text/plain": [
       "<Figure size 900x500 with 1 Axes>"
      ]
     },
     "metadata": {
      "needs_background": "light"
     },
     "output_type": "display_data"
    }
   ],
   "source": [
    "plt.figure(figsize=(9,5), dpi = 100)\n",
    "# title\n",
    "plt.title('Number of Neighborhoods in each Borough of New York City')\n",
    "#On x-axis\n",
    "plt.xlabel('Borough', fontsize = 15)\n",
    "#On y-axis\n",
    "plt.ylabel('No.of Neighborhood', fontsize=15)\n",
    "#giving a bar plot\n",
    "new_york_data.groupby('Borough')['Neighborhood'].count().plot(kind='bar', color='darkred')\n",
    "#legend\n",
    "plt.legend()\n",
    "#displays the plot\n",
    "plt.show()"
   ]
  },
  {
   "cell_type": "markdown",
   "metadata": {},
   "source": [
    "We can see in this diagram that Queens has the highest number of neighborhoods."
   ]
  },
  {
   "cell_type": "markdown",
   "metadata": {},
   "source": [
    "## **3) Get information about Peruvian Restaurants in New York City**"
   ]
  },
  {
   "cell_type": "markdown",
   "metadata": {},
   "source": [
    "As we have the list of all neighborhoods, we can now count the Peruvian restaurants in each neighborhood:"
   ]
  },
  {
   "cell_type": "code",
   "execution_count": 28,
   "metadata": {},
   "outputs": [
    {
     "name": "stdout",
     "output_type": "stream",
     "text": [
      "Neighborhood 1 / 306 : Nr of Peruvian Restaurants in Wakefield, Bronx: 0\n",
      "Neighborhood 2 / 306 : Nr of Peruvian Restaurants in Co-op City, Bronx: 0\n",
      "Neighborhood 3 / 306 : Nr of Peruvian Restaurants in Eastchester, Bronx: 0\n",
      "Neighborhood 4 / 306 : Nr of Peruvian Restaurants in Fieldston, Bronx: 0\n",
      "Neighborhood 5 / 306 : Nr of Peruvian Restaurants in Riverdale, Bronx: 0\n",
      "Neighborhood 6 / 306 : Nr of Peruvian Restaurants in Kingsbridge, Bronx: 0\n",
      "Neighborhood 7 / 306 : Nr of Peruvian Restaurants in Marble Hill, Manhattan: 0\n",
      "Neighborhood 8 / 306 : Nr of Peruvian Restaurants in Woodlawn, Bronx: 0\n",
      "Neighborhood 9 / 306 : Nr of Peruvian Restaurants in Norwood, Bronx: 0\n",
      "Neighborhood 10 / 306 : Nr of Peruvian Restaurants in Williamsbridge, Bronx: 0\n",
      "Neighborhood 11 / 306 : Nr of Peruvian Restaurants in Baychester, Bronx: 0\n",
      "Neighborhood 12 / 306 : Nr of Peruvian Restaurants in Pelham Parkway, Bronx: 0\n",
      "Neighborhood 13 / 306 : Nr of Peruvian Restaurants in City Island, Bronx: 0\n",
      "Neighborhood 14 / 306 : Nr of Peruvian Restaurants in Bedford Park, Bronx: 0\n",
      "Neighborhood 15 / 306 : Nr of Peruvian Restaurants in University Heights, Bronx: 0\n",
      "Neighborhood 16 / 306 : Nr of Peruvian Restaurants in Morris Heights, Bronx: 0\n",
      "Neighborhood 17 / 306 : Nr of Peruvian Restaurants in Fordham, Bronx: 0\n",
      "Neighborhood 18 / 306 : Nr of Peruvian Restaurants in East Tremont, Bronx: 0\n",
      "Neighborhood 19 / 306 : Nr of Peruvian Restaurants in West Farms, Bronx: 0\n",
      "Neighborhood 20 / 306 : Nr of Peruvian Restaurants in High  Bridge, Bronx: 0\n",
      "Neighborhood 21 / 306 : Nr of Peruvian Restaurants in Melrose, Bronx: 0\n",
      "Neighborhood 22 / 306 : Nr of Peruvian Restaurants in Mott Haven, Bronx: 1\n",
      "Neighborhood 23 / 306 : Nr of Peruvian Restaurants in Port Morris, Bronx: 1\n",
      "Neighborhood 24 / 306 : Nr of Peruvian Restaurants in Longwood, Bronx: 0\n",
      "Neighborhood 25 / 306 : Nr of Peruvian Restaurants in Hunts Point, Bronx: 0\n",
      "Neighborhood 26 / 306 : Nr of Peruvian Restaurants in Morrisania, Bronx: 0\n",
      "Neighborhood 27 / 306 : Nr of Peruvian Restaurants in Soundview, Bronx: 0\n",
      "Neighborhood 28 / 306 : Nr of Peruvian Restaurants in Clason Point, Bronx: 0\n",
      "Neighborhood 29 / 306 : Nr of Peruvian Restaurants in Throgs Neck, Bronx: 0\n",
      "Neighborhood 30 / 306 : Nr of Peruvian Restaurants in Country Club, Bronx: 0\n",
      "Neighborhood 31 / 306 : Nr of Peruvian Restaurants in Parkchester, Bronx: 0\n",
      "Neighborhood 32 / 306 : Nr of Peruvian Restaurants in Westchester Square, Bronx: 0\n",
      "Neighborhood 33 / 306 : Nr of Peruvian Restaurants in Van Nest, Bronx: 0\n",
      "Neighborhood 34 / 306 : Nr of Peruvian Restaurants in Morris Park, Bronx: 0\n",
      "Neighborhood 35 / 306 : Nr of Peruvian Restaurants in Belmont, Bronx: 0\n",
      "Neighborhood 36 / 306 : Nr of Peruvian Restaurants in Spuyten Duyvil, Bronx: 0\n",
      "Neighborhood 37 / 306 : Nr of Peruvian Restaurants in North Riverdale, Bronx: 0\n",
      "Neighborhood 38 / 306 : Nr of Peruvian Restaurants in Pelham Bay, Bronx: 0\n",
      "Neighborhood 39 / 306 : Nr of Peruvian Restaurants in Schuylerville, Bronx: 0\n",
      "Neighborhood 40 / 306 : Nr of Peruvian Restaurants in Edgewater Park, Bronx: 0\n",
      "Neighborhood 41 / 306 : Nr of Peruvian Restaurants in Castle Hill, Bronx: 0\n",
      "Neighborhood 42 / 306 : Nr of Peruvian Restaurants in Olinville, Bronx: 0\n",
      "Neighborhood 43 / 306 : Nr of Peruvian Restaurants in Pelham Gardens, Bronx: 0\n",
      "Neighborhood 44 / 306 : Nr of Peruvian Restaurants in Concourse, Bronx: 0\n",
      "Neighborhood 45 / 306 : Nr of Peruvian Restaurants in Unionport, Bronx: 0\n",
      "Neighborhood 46 / 306 : Nr of Peruvian Restaurants in Edenwald, Bronx: 0\n",
      "Neighborhood 47 / 306 : Nr of Peruvian Restaurants in Bay Ridge, Brooklyn: 0\n",
      "Neighborhood 48 / 306 : Nr of Peruvian Restaurants in Bensonhurst, Brooklyn: 0\n",
      "Neighborhood 49 / 306 : Nr of Peruvian Restaurants in Sunset Park, Brooklyn: 0\n",
      "Neighborhood 50 / 306 : Nr of Peruvian Restaurants in Greenpoint, Brooklyn: 0\n",
      "Neighborhood 51 / 306 : Nr of Peruvian Restaurants in Gravesend, Brooklyn: 0\n",
      "Neighborhood 52 / 306 : Nr of Peruvian Restaurants in Brighton Beach, Brooklyn: 0\n",
      "Neighborhood 53 / 306 : Nr of Peruvian Restaurants in Sheepshead Bay, Brooklyn: 0\n",
      "Neighborhood 54 / 306 : Nr of Peruvian Restaurants in Manhattan Terrace, Brooklyn: 0\n",
      "Neighborhood 55 / 306 : Nr of Peruvian Restaurants in Flatbush, Brooklyn: 0\n",
      "Neighborhood 56 / 306 : Nr of Peruvian Restaurants in Crown Heights, Brooklyn: 0\n",
      "Neighborhood 57 / 306 : Nr of Peruvian Restaurants in East Flatbush, Brooklyn: 0\n",
      "Neighborhood 58 / 306 : Nr of Peruvian Restaurants in Kensington, Brooklyn: 0\n",
      "Neighborhood 59 / 306 : Nr of Peruvian Restaurants in Windsor Terrace, Brooklyn: 0\n",
      "Neighborhood 60 / 306 : Nr of Peruvian Restaurants in Prospect Heights, Brooklyn: 0\n",
      "Neighborhood 61 / 306 : Nr of Peruvian Restaurants in Brownsville, Brooklyn: 0\n",
      "Neighborhood 62 / 306 : Nr of Peruvian Restaurants in Williamsburg, Brooklyn: 0\n",
      "Neighborhood 63 / 306 : Nr of Peruvian Restaurants in Bushwick, Brooklyn: 1\n",
      "Neighborhood 64 / 306 : Nr of Peruvian Restaurants in Bedford Stuyvesant, Brooklyn: 0\n",
      "Neighborhood 65 / 306 : Nr of Peruvian Restaurants in Brooklyn Heights, Brooklyn: 0\n",
      "Neighborhood 66 / 306 : Nr of Peruvian Restaurants in Cobble Hill, Brooklyn: 0\n",
      "Neighborhood 67 / 306 : Nr of Peruvian Restaurants in Carroll Gardens, Brooklyn: 0\n",
      "Neighborhood 68 / 306 : Nr of Peruvian Restaurants in Red Hook, Brooklyn: 0\n",
      "Neighborhood 69 / 306 : Nr of Peruvian Restaurants in Gowanus, Brooklyn: 1\n",
      "Neighborhood 70 / 306 : Nr of Peruvian Restaurants in Fort Greene, Brooklyn: 0\n",
      "Neighborhood 71 / 306 : Nr of Peruvian Restaurants in Park Slope, Brooklyn: 0\n",
      "Neighborhood 72 / 306 : Nr of Peruvian Restaurants in Cypress Hills, Brooklyn: 0\n",
      "Neighborhood 73 / 306 : Nr of Peruvian Restaurants in East New York, Brooklyn: 0\n",
      "Neighborhood 74 / 306 : Nr of Peruvian Restaurants in Starrett City, Brooklyn: 0\n",
      "Neighborhood 75 / 306 : Nr of Peruvian Restaurants in Canarsie, Brooklyn: 0\n",
      "Neighborhood 76 / 306 : Nr of Peruvian Restaurants in Flatlands, Brooklyn: 0\n",
      "Neighborhood 77 / 306 : Nr of Peruvian Restaurants in Mill Island, Brooklyn: 0\n",
      "Neighborhood 78 / 306 : Nr of Peruvian Restaurants in Manhattan Beach, Brooklyn: 0\n",
      "Neighborhood 79 / 306 : Nr of Peruvian Restaurants in Coney Island, Brooklyn: 0\n",
      "Neighborhood 80 / 306 : Nr of Peruvian Restaurants in Bath Beach, Brooklyn: 1\n",
      "Neighborhood 81 / 306 : Nr of Peruvian Restaurants in Borough Park, Brooklyn: 0\n",
      "Neighborhood 82 / 306 : Nr of Peruvian Restaurants in Dyker Heights, Brooklyn: 0\n",
      "Neighborhood 83 / 306 : Nr of Peruvian Restaurants in Gerritsen Beach, Brooklyn: 0\n",
      "Neighborhood 84 / 306 : Nr of Peruvian Restaurants in Marine Park, Brooklyn: 0\n",
      "Neighborhood 85 / 306 : Nr of Peruvian Restaurants in Clinton Hill, Brooklyn: 0\n",
      "Neighborhood 86 / 306 : Nr of Peruvian Restaurants in Sea Gate, Brooklyn: 0\n",
      "Neighborhood 87 / 306 : Nr of Peruvian Restaurants in Downtown, Brooklyn: 1\n",
      "Neighborhood 88 / 306 : Nr of Peruvian Restaurants in Boerum Hill, Brooklyn: 0\n",
      "Neighborhood 89 / 306 : Nr of Peruvian Restaurants in Prospect Lefferts Gardens, Brooklyn: 0\n",
      "Neighborhood 90 / 306 : Nr of Peruvian Restaurants in Ocean Hill, Brooklyn: 0\n",
      "Neighborhood 91 / 306 : Nr of Peruvian Restaurants in City Line, Brooklyn: 0\n",
      "Neighborhood 92 / 306 : Nr of Peruvian Restaurants in Bergen Beach, Brooklyn: 1\n",
      "Neighborhood 93 / 306 : Nr of Peruvian Restaurants in Midwood, Brooklyn: 0\n",
      "Neighborhood 94 / 306 : Nr of Peruvian Restaurants in Prospect Park South, Brooklyn: 0\n",
      "Neighborhood 95 / 306 : Nr of Peruvian Restaurants in Georgetown, Brooklyn: 1\n",
      "Neighborhood 96 / 306 : Nr of Peruvian Restaurants in East Williamsburg, Brooklyn: 0\n",
      "Neighborhood 97 / 306 : Nr of Peruvian Restaurants in North Side, Brooklyn: 0\n",
      "Neighborhood 98 / 306 : Nr of Peruvian Restaurants in South Side, Brooklyn: 0\n",
      "Neighborhood 99 / 306 : Nr of Peruvian Restaurants in Ocean Parkway, Brooklyn: 0\n",
      "Neighborhood 100 / 306 : Nr of Peruvian Restaurants in Fort Hamilton, Brooklyn: 0\n",
      "Neighborhood 101 / 306 : Nr of Peruvian Restaurants in Chinatown, Manhattan: 0\n",
      "Neighborhood 102 / 306 : Nr of Peruvian Restaurants in Washington Heights, Manhattan: 0\n",
      "Neighborhood 103 / 306 : Nr of Peruvian Restaurants in Inwood, Manhattan: 0\n",
      "Neighborhood 104 / 306 : Nr of Peruvian Restaurants in Hamilton Heights, Manhattan: 0\n",
      "Neighborhood 105 / 306 : Nr of Peruvian Restaurants in Manhattanville, Manhattan: 0\n",
      "Neighborhood 106 / 306 : Nr of Peruvian Restaurants in Central Harlem, Manhattan: 0\n",
      "Neighborhood 107 / 306 : Nr of Peruvian Restaurants in East Harlem, Manhattan: 0\n",
      "Neighborhood 108 / 306 : Nr of Peruvian Restaurants in Upper East Side, Manhattan: 0\n",
      "Neighborhood 109 / 306 : Nr of Peruvian Restaurants in Yorkville, Manhattan: 1\n",
      "Neighborhood 110 / 306 : Nr of Peruvian Restaurants in Lenox Hill, Manhattan: 0\n",
      "Neighborhood 111 / 306 : Nr of Peruvian Restaurants in Roosevelt Island, Manhattan: 0\n",
      "Neighborhood 112 / 306 : Nr of Peruvian Restaurants in Upper West Side, Manhattan: 1\n",
      "Neighborhood 113 / 306 : Nr of Peruvian Restaurants in Lincoln Square, Manhattan: 0\n",
      "Neighborhood 114 / 306 : Nr of Peruvian Restaurants in Clinton, Manhattan: 2\n",
      "Neighborhood 115 / 306 : Nr of Peruvian Restaurants in Midtown, Manhattan: 0\n",
      "Neighborhood 116 / 306 : Nr of Peruvian Restaurants in Murray Hill, Manhattan: 0\n",
      "Neighborhood 117 / 306 : Nr of Peruvian Restaurants in Chelsea, Manhattan: 0\n",
      "Neighborhood 118 / 306 : Nr of Peruvian Restaurants in Greenwich Village, Manhattan: 1\n",
      "Neighborhood 119 / 306 : Nr of Peruvian Restaurants in East Village, Manhattan: 0\n",
      "Neighborhood 120 / 306 : Nr of Peruvian Restaurants in Lower East Side, Manhattan: 0\n",
      "Neighborhood 121 / 306 : Nr of Peruvian Restaurants in Tribeca, Manhattan: 0\n",
      "Neighborhood 122 / 306 : Nr of Peruvian Restaurants in Little Italy, Manhattan: 0\n",
      "Neighborhood 123 / 306 : Nr of Peruvian Restaurants in Soho, Manhattan: 0\n",
      "Neighborhood 124 / 306 : Nr of Peruvian Restaurants in West Village, Manhattan: 1\n",
      "Neighborhood 125 / 306 : Nr of Peruvian Restaurants in Manhattan Valley, Manhattan: 2\n",
      "Neighborhood 126 / 306 : Nr of Peruvian Restaurants in Morningside Heights, Manhattan: 0\n",
      "Neighborhood 127 / 306 : Nr of Peruvian Restaurants in Gramercy, Manhattan: 0\n",
      "Neighborhood 128 / 306 : Nr of Peruvian Restaurants in Battery Park City, Manhattan: 0\n",
      "Neighborhood 129 / 306 : Nr of Peruvian Restaurants in Financial District, Manhattan: 0\n",
      "Neighborhood 130 / 306 : Nr of Peruvian Restaurants in Astoria, Queens: 0\n",
      "Neighborhood 131 / 306 : Nr of Peruvian Restaurants in Woodside, Queens: 0\n",
      "Neighborhood 132 / 306 : Nr of Peruvian Restaurants in Jackson Heights, Queens: 4\n",
      "Neighborhood 133 / 306 : Nr of Peruvian Restaurants in Elmhurst, Queens: 1\n",
      "Neighborhood 134 / 306 : Nr of Peruvian Restaurants in Howard Beach, Queens: 0\n",
      "Neighborhood 135 / 306 : Nr of Peruvian Restaurants in Corona, Queens: 1\n",
      "Neighborhood 136 / 306 : Nr of Peruvian Restaurants in Forest Hills, Queens: 2\n",
      "Neighborhood 137 / 306 : Nr of Peruvian Restaurants in Kew Gardens, Queens: 0\n",
      "Neighborhood 138 / 306 : Nr of Peruvian Restaurants in Richmond Hill, Queens: 1\n",
      "Neighborhood 139 / 306 : Nr of Peruvian Restaurants in Flushing, Queens: 0\n",
      "Neighborhood 140 / 306 : Nr of Peruvian Restaurants in Long Island City, Queens: 0\n",
      "Neighborhood 141 / 306 : Nr of Peruvian Restaurants in Sunnyside, Queens: 2\n",
      "Neighborhood 142 / 306 : Nr of Peruvian Restaurants in East Elmhurst, Queens: 1\n",
      "Neighborhood 143 / 306 : Nr of Peruvian Restaurants in Maspeth, Queens: 1\n",
      "Neighborhood 144 / 306 : Nr of Peruvian Restaurants in Ridgewood, Queens: 0\n",
      "Neighborhood 145 / 306 : Nr of Peruvian Restaurants in Glendale, Queens: 0\n",
      "Neighborhood 146 / 306 : Nr of Peruvian Restaurants in Rego Park, Queens: 1\n",
      "Neighborhood 147 / 306 : Nr of Peruvian Restaurants in Woodhaven, Queens: 0\n",
      "Neighborhood 148 / 306 : Nr of Peruvian Restaurants in Ozone Park, Queens: 0\n",
      "Neighborhood 149 / 306 : Nr of Peruvian Restaurants in South Ozone Park, Queens: 0\n",
      "Neighborhood 150 / 306 : Nr of Peruvian Restaurants in College Point, Queens: 0\n",
      "Neighborhood 151 / 306 : Nr of Peruvian Restaurants in Whitestone, Queens: 0\n",
      "Neighborhood 152 / 306 : Nr of Peruvian Restaurants in Bayside, Queens: 0\n",
      "Neighborhood 153 / 306 : Nr of Peruvian Restaurants in Auburndale, Queens: 1\n",
      "Neighborhood 154 / 306 : Nr of Peruvian Restaurants in Little Neck, Queens: 1\n",
      "Neighborhood 155 / 306 : Nr of Peruvian Restaurants in Douglaston, Queens: 1\n",
      "Neighborhood 156 / 306 : Nr of Peruvian Restaurants in Glen Oaks, Queens: 0\n",
      "Neighborhood 157 / 306 : Nr of Peruvian Restaurants in Bellerose, Queens: 0\n",
      "Neighborhood 158 / 306 : Nr of Peruvian Restaurants in Kew Gardens Hills, Queens: 0\n",
      "Neighborhood 159 / 306 : Nr of Peruvian Restaurants in Fresh Meadows, Queens: 0\n",
      "Neighborhood 160 / 306 : Nr of Peruvian Restaurants in Briarwood, Queens: 0\n",
      "Neighborhood 161 / 306 : Nr of Peruvian Restaurants in Jamaica Center, Queens: 0\n",
      "Neighborhood 162 / 306 : Nr of Peruvian Restaurants in Oakland Gardens, Queens: 0\n",
      "Neighborhood 163 / 306 : Nr of Peruvian Restaurants in Queens Village, Queens: 0\n",
      "Neighborhood 164 / 306 : Nr of Peruvian Restaurants in Hollis, Queens: 0\n",
      "Neighborhood 165 / 306 : Nr of Peruvian Restaurants in South Jamaica, Queens: 0\n",
      "Neighborhood 166 / 306 : Nr of Peruvian Restaurants in St. Albans, Queens: 0\n",
      "Neighborhood 167 / 306 : Nr of Peruvian Restaurants in Rochdale, Queens: 0\n",
      "Neighborhood 168 / 306 : Nr of Peruvian Restaurants in Springfield Gardens, Queens: 0\n",
      "Neighborhood 169 / 306 : Nr of Peruvian Restaurants in Cambria Heights, Queens: 0\n",
      "Neighborhood 170 / 306 : Nr of Peruvian Restaurants in Rosedale, Queens: 0\n",
      "Neighborhood 171 / 306 : Nr of Peruvian Restaurants in Far Rockaway, Queens: 0\n",
      "Neighborhood 172 / 306 : Nr of Peruvian Restaurants in Broad Channel, Queens: 0\n",
      "Neighborhood 173 / 306 : Nr of Peruvian Restaurants in Breezy Point, Queens: 0\n",
      "Neighborhood 174 / 306 : Nr of Peruvian Restaurants in Steinway, Queens: 0\n",
      "Neighborhood 175 / 306 : Nr of Peruvian Restaurants in Beechhurst, Queens: 0\n",
      "Neighborhood 176 / 306 : Nr of Peruvian Restaurants in Bay Terrace, Queens: 0\n",
      "Neighborhood 177 / 306 : Nr of Peruvian Restaurants in Edgemere, Queens: 0\n",
      "Neighborhood 178 / 306 : Nr of Peruvian Restaurants in Arverne, Queens: 0\n",
      "Neighborhood 179 / 306 : Nr of Peruvian Restaurants in Rockaway Beach, Queens: 0\n",
      "Neighborhood 180 / 306 : Nr of Peruvian Restaurants in Neponsit, Queens: 0\n",
      "Neighborhood 181 / 306 : Nr of Peruvian Restaurants in Murray Hill, Queens: 0\n",
      "Neighborhood 182 / 306 : Nr of Peruvian Restaurants in Floral Park, Queens: 0\n",
      "Neighborhood 183 / 306 : Nr of Peruvian Restaurants in Holliswood, Queens: 0\n",
      "Neighborhood 184 / 306 : Nr of Peruvian Restaurants in Jamaica Estates, Queens: 0\n",
      "Neighborhood 185 / 306 : Nr of Peruvian Restaurants in Queensboro Hill, Queens: 0\n",
      "Neighborhood 186 / 306 : Nr of Peruvian Restaurants in Hillcrest, Queens: 0\n",
      "Neighborhood 187 / 306 : Nr of Peruvian Restaurants in Ravenswood, Queens: 0\n",
      "Neighborhood 188 / 306 : Nr of Peruvian Restaurants in Lindenwood, Queens: 0\n",
      "Neighborhood 189 / 306 : Nr of Peruvian Restaurants in Laurelton, Queens: 0\n",
      "Neighborhood 190 / 306 : Nr of Peruvian Restaurants in Lefrak City, Queens: 0\n",
      "Neighborhood 191 / 306 : Nr of Peruvian Restaurants in Belle Harbor, Queens: 0\n",
      "Neighborhood 192 / 306 : Nr of Peruvian Restaurants in Rockaway Park, Queens: 0\n",
      "Neighborhood 193 / 306 : Nr of Peruvian Restaurants in Somerville, Queens: 0\n",
      "Neighborhood 194 / 306 : Nr of Peruvian Restaurants in Brookville, Queens: 0\n",
      "Neighborhood 195 / 306 : Nr of Peruvian Restaurants in Bellaire, Queens: 0\n",
      "Neighborhood 196 / 306 : Nr of Peruvian Restaurants in North Corona, Queens: 2\n",
      "Neighborhood 197 / 306 : Nr of Peruvian Restaurants in Forest Hills Gardens, Queens: 1\n",
      "Neighborhood 198 / 306 : Nr of Peruvian Restaurants in St. George, Staten Island: 0\n",
      "Neighborhood 199 / 306 : Nr of Peruvian Restaurants in New Brighton, Staten Island: 0\n",
      "Neighborhood 200 / 306 : Nr of Peruvian Restaurants in Stapleton, Staten Island: 0\n",
      "Neighborhood 201 / 306 : Nr of Peruvian Restaurants in Rosebank, Staten Island: 0\n",
      "Neighborhood 202 / 306 : Nr of Peruvian Restaurants in West Brighton, Staten Island: 0\n",
      "Neighborhood 203 / 306 : Nr of Peruvian Restaurants in Grymes Hill, Staten Island: 0\n",
      "Neighborhood 204 / 306 : Nr of Peruvian Restaurants in Todt Hill, Staten Island: 0\n",
      "Neighborhood 205 / 306 : Nr of Peruvian Restaurants in South Beach, Staten Island: 0\n",
      "Neighborhood 206 / 306 : Nr of Peruvian Restaurants in Port Richmond, Staten Island: 0\n",
      "Neighborhood 207 / 306 : Nr of Peruvian Restaurants in Mariner's Harbor, Staten Island: 0\n",
      "Neighborhood 208 / 306 : Nr of Peruvian Restaurants in Port Ivory, Staten Island: 0\n",
      "Neighborhood 209 / 306 : Nr of Peruvian Restaurants in Castleton Corners, Staten Island: 0\n",
      "Neighborhood 210 / 306 : Nr of Peruvian Restaurants in New Springville, Staten Island: 0\n",
      "Neighborhood 211 / 306 : Nr of Peruvian Restaurants in Travis, Staten Island: 0\n",
      "Neighborhood 212 / 306 : Nr of Peruvian Restaurants in New Dorp, Staten Island: 0\n",
      "Neighborhood 213 / 306 : Nr of Peruvian Restaurants in Oakwood, Staten Island: 0\n",
      "Neighborhood 214 / 306 : Nr of Peruvian Restaurants in Great Kills, Staten Island: 0\n",
      "Neighborhood 215 / 306 : Nr of Peruvian Restaurants in Eltingville, Staten Island: 0\n",
      "Neighborhood 216 / 306 : Nr of Peruvian Restaurants in Annadale, Staten Island: 0\n",
      "Neighborhood 217 / 306 : Nr of Peruvian Restaurants in Woodrow, Staten Island: 0\n",
      "Neighborhood 218 / 306 : Nr of Peruvian Restaurants in Tottenville, Staten Island: 0\n",
      "Neighborhood 219 / 306 : Nr of Peruvian Restaurants in Tompkinsville, Staten Island: 0\n",
      "Neighborhood 220 / 306 : Nr of Peruvian Restaurants in Silver Lake, Staten Island: 0\n",
      "Neighborhood 221 / 306 : Nr of Peruvian Restaurants in Sunnyside, Staten Island: 0\n",
      "Neighborhood 222 / 306 : Nr of Peruvian Restaurants in Ditmas Park, Brooklyn: 0\n",
      "Neighborhood 223 / 306 : Nr of Peruvian Restaurants in Wingate, Brooklyn: 0\n",
      "Neighborhood 224 / 306 : Nr of Peruvian Restaurants in Rugby, Brooklyn: 0\n",
      "Neighborhood 225 / 306 : Nr of Peruvian Restaurants in Park Hill, Staten Island: 1\n",
      "Neighborhood 226 / 306 : Nr of Peruvian Restaurants in Westerleigh, Staten Island: 0\n",
      "Neighborhood 227 / 306 : Nr of Peruvian Restaurants in Graniteville, Staten Island: 0\n",
      "Neighborhood 228 / 306 : Nr of Peruvian Restaurants in Arlington, Staten Island: 0\n",
      "Neighborhood 229 / 306 : Nr of Peruvian Restaurants in Arrochar, Staten Island: 0\n",
      "Neighborhood 230 / 306 : Nr of Peruvian Restaurants in Grasmere, Staten Island: 1\n",
      "Neighborhood 231 / 306 : Nr of Peruvian Restaurants in Old Town, Staten Island: 1\n",
      "Neighborhood 232 / 306 : Nr of Peruvian Restaurants in Dongan Hills, Staten Island: 0\n",
      "Neighborhood 233 / 306 : Nr of Peruvian Restaurants in Midland Beach, Staten Island: 0\n",
      "Neighborhood 234 / 306 : Nr of Peruvian Restaurants in Grant City, Staten Island: 0\n",
      "Neighborhood 235 / 306 : Nr of Peruvian Restaurants in New Dorp Beach, Staten Island: 0\n",
      "Neighborhood 236 / 306 : Nr of Peruvian Restaurants in Bay Terrace, Staten Island: 0\n",
      "Neighborhood 237 / 306 : Nr of Peruvian Restaurants in Huguenot, Staten Island: 0\n",
      "Neighborhood 238 / 306 : Nr of Peruvian Restaurants in Pleasant Plains, Staten Island: 0\n",
      "Neighborhood 239 / 306 : Nr of Peruvian Restaurants in Butler Manor, Staten Island: 0\n",
      "Neighborhood 240 / 306 : Nr of Peruvian Restaurants in Charleston, Staten Island: 0\n",
      "Neighborhood 241 / 306 : Nr of Peruvian Restaurants in Rossville, Staten Island: 0\n",
      "Neighborhood 242 / 306 : Nr of Peruvian Restaurants in Arden Heights, Staten Island: 0\n",
      "Neighborhood 243 / 306 : Nr of Peruvian Restaurants in Greenridge, Staten Island: 0\n",
      "Neighborhood 244 / 306 : Nr of Peruvian Restaurants in Heartland Village, Staten Island: 0\n",
      "Neighborhood 245 / 306 : Nr of Peruvian Restaurants in Chelsea, Staten Island: 0\n",
      "Neighborhood 246 / 306 : Nr of Peruvian Restaurants in Bloomfield, Staten Island: 0\n",
      "Neighborhood 247 / 306 : Nr of Peruvian Restaurants in Bulls Head, Staten Island: 0\n",
      "Neighborhood 248 / 306 : Nr of Peruvian Restaurants in Carnegie Hill, Manhattan: 0\n",
      "Neighborhood 249 / 306 : Nr of Peruvian Restaurants in Noho, Manhattan: 0\n",
      "Neighborhood 250 / 306 : Nr of Peruvian Restaurants in Civic Center, Manhattan: 0\n",
      "Neighborhood 251 / 306 : Nr of Peruvian Restaurants in Midtown South, Manhattan: 0\n",
      "Neighborhood 252 / 306 : Nr of Peruvian Restaurants in Richmond Town, Staten Island: 0\n",
      "Neighborhood 253 / 306 : Nr of Peruvian Restaurants in Shore Acres, Staten Island: 0\n",
      "Neighborhood 254 / 306 : Nr of Peruvian Restaurants in Clifton, Staten Island: 0\n",
      "Neighborhood 255 / 306 : Nr of Peruvian Restaurants in Concord, Staten Island: 1\n",
      "Neighborhood 256 / 306 : Nr of Peruvian Restaurants in Emerson Hill, Staten Island: 0\n",
      "Neighborhood 257 / 306 : Nr of Peruvian Restaurants in Randall Manor, Staten Island: 0\n",
      "Neighborhood 258 / 306 : Nr of Peruvian Restaurants in Howland Hook, Staten Island: 1\n",
      "Neighborhood 259 / 306 : Nr of Peruvian Restaurants in Elm Park, Staten Island: 0\n",
      "Neighborhood 260 / 306 : Nr of Peruvian Restaurants in Remsen Village, Brooklyn: 0\n",
      "Neighborhood 261 / 306 : Nr of Peruvian Restaurants in New Lots, Brooklyn: 0\n",
      "Neighborhood 262 / 306 : Nr of Peruvian Restaurants in Paerdegat Basin, Brooklyn: 0\n",
      "Neighborhood 263 / 306 : Nr of Peruvian Restaurants in Mill Basin, Brooklyn: 1\n",
      "Neighborhood 264 / 306 : Nr of Peruvian Restaurants in Jamaica Hills, Queens: 0\n",
      "Neighborhood 265 / 306 : Nr of Peruvian Restaurants in Utopia, Queens: 0\n",
      "Neighborhood 266 / 306 : Nr of Peruvian Restaurants in Pomonok, Queens: 0\n",
      "Neighborhood 267 / 306 : Nr of Peruvian Restaurants in Astoria Heights, Queens: 0\n",
      "Neighborhood 268 / 306 : Nr of Peruvian Restaurants in Claremont Village, Bronx: 0\n",
      "Neighborhood 269 / 306 : Nr of Peruvian Restaurants in Concourse Village, Bronx: 0\n",
      "Neighborhood 270 / 306 : Nr of Peruvian Restaurants in Mount Eden, Bronx: 0\n",
      "Neighborhood 271 / 306 : Nr of Peruvian Restaurants in Mount Hope, Bronx: 0\n",
      "Neighborhood 272 / 306 : Nr of Peruvian Restaurants in Sutton Place, Manhattan: 0\n",
      "Neighborhood 273 / 306 : Nr of Peruvian Restaurants in Hunters Point, Queens: 1\n",
      "Neighborhood 274 / 306 : Nr of Peruvian Restaurants in Turtle Bay, Manhattan: 0\n",
      "Neighborhood 275 / 306 : Nr of Peruvian Restaurants in Tudor City, Manhattan: 1\n",
      "Neighborhood 276 / 306 : Nr of Peruvian Restaurants in Stuyvesant Town, Manhattan: 0\n",
      "Neighborhood 277 / 306 : Nr of Peruvian Restaurants in Flatiron, Manhattan: 0\n",
      "Neighborhood 278 / 306 : Nr of Peruvian Restaurants in Sunnyside Gardens, Queens: 2\n",
      "Neighborhood 279 / 306 : Nr of Peruvian Restaurants in Blissville, Queens: 1\n",
      "Neighborhood 280 / 306 : Nr of Peruvian Restaurants in Fulton Ferry, Brooklyn: 0\n",
      "Neighborhood 281 / 306 : Nr of Peruvian Restaurants in Vinegar Hill, Brooklyn: 1\n",
      "Neighborhood 282 / 306 : Nr of Peruvian Restaurants in Weeksville, Brooklyn: 0\n",
      "Neighborhood 283 / 306 : Nr of Peruvian Restaurants in Broadway Junction, Brooklyn: 0\n",
      "Neighborhood 284 / 306 : Nr of Peruvian Restaurants in Dumbo, Brooklyn: 0\n",
      "Neighborhood 285 / 306 : Nr of Peruvian Restaurants in Manor Heights, Staten Island: 0\n",
      "Neighborhood 286 / 306 : Nr of Peruvian Restaurants in Willowbrook, Staten Island: 0\n",
      "Neighborhood 287 / 306 : Nr of Peruvian Restaurants in Sandy Ground, Staten Island: 0\n",
      "Neighborhood 288 / 306 : Nr of Peruvian Restaurants in Egbertville, Staten Island: 0\n",
      "Neighborhood 289 / 306 : Nr of Peruvian Restaurants in Roxbury, Queens: 0\n",
      "Neighborhood 290 / 306 : Nr of Peruvian Restaurants in Homecrest, Brooklyn: 1\n",
      "Neighborhood 291 / 306 : Nr of Peruvian Restaurants in Middle Village, Queens: 0\n",
      "Neighborhood 292 / 306 : Nr of Peruvian Restaurants in Prince's Bay, Staten Island: 0\n",
      "Neighborhood 293 / 306 : Nr of Peruvian Restaurants in Lighthouse Hill, Staten Island: 0\n",
      "Neighborhood 294 / 306 : Nr of Peruvian Restaurants in Richmond Valley, Staten Island: 0\n",
      "Neighborhood 295 / 306 : Nr of Peruvian Restaurants in Malba, Queens: 0\n",
      "Neighborhood 296 / 306 : Nr of Peruvian Restaurants in Highland Park, Brooklyn: 0\n",
      "Neighborhood 297 / 306 : Nr of Peruvian Restaurants in Madison, Brooklyn: 0\n",
      "Neighborhood 298 / 306 : Nr of Peruvian Restaurants in Bronxdale, Bronx: 0\n",
      "Neighborhood 299 / 306 : Nr of Peruvian Restaurants in Allerton, Bronx: 0\n",
      "Neighborhood 300 / 306 : Nr of Peruvian Restaurants in Kingsbridge Heights, Bronx: 0\n",
      "Neighborhood 301 / 306 : Nr of Peruvian Restaurants in Erasmus, Brooklyn: 0\n",
      "Neighborhood 302 / 306 : Nr of Peruvian Restaurants in Hudson Yards, Manhattan: 2\n",
      "Neighborhood 303 / 306 : Nr of Peruvian Restaurants in Hammels, Queens: 0\n",
      "Neighborhood 304 / 306 : Nr of Peruvian Restaurants in Bayswater, Queens: 0\n",
      "Neighborhood 305 / 306 : Nr of Peruvian Restaurants in Queensbridge, Queens: 0\n",
      "Neighborhood 306 / 306 : Nr of Peruvian Restaurants in Fox Hills, Staten Island: 0\n"
     ]
    }
   ],
   "source": [
    "column_names=['Borough', 'Neighborhood', 'ID','Name']\n",
    "peru_rest_ny=pd.DataFrame(columns=column_names)\n",
    "\n",
    "count=1\n",
    "for row in new_york_data.values.tolist():\n",
    "    Borough, Neighborhood, Latitude, Longitude=row\n",
    "    venues = get_venues(Latitude,Longitude)\n",
    "    peruvian_restaurants=venues[venues['Category']=='Peruvian Restaurant']   \n",
    "    print('Neighborhood',count,'/',len(new_york_data),':','Nr of Peruvian Restaurants in '+Neighborhood+', '+Borough+': '+str(len(peruvian_restaurants)))\n",
    "    for restaurant_detail in peruvian_restaurants.values.tolist():\n",
    "        id, name , category=restaurant_detail\n",
    "        peru_rest_ny = peru_rest_ny.append({'Borough': Borough,\n",
    "                                                'Neighborhood': Neighborhood, \n",
    "                                                'ID': id,\n",
    "                                                'Name' : name\n",
    "                                               }, ignore_index=True)\n",
    "    count+=1"
   ]
  },
  {
   "cell_type": "code",
   "execution_count": 29,
   "metadata": {},
   "outputs": [
    {
     "data": {
      "text/html": [
       "<div>\n",
       "<style scoped>\n",
       "    .dataframe tbody tr th:only-of-type {\n",
       "        vertical-align: middle;\n",
       "    }\n",
       "\n",
       "    .dataframe tbody tr th {\n",
       "        vertical-align: top;\n",
       "    }\n",
       "\n",
       "    .dataframe thead th {\n",
       "        text-align: right;\n",
       "    }\n",
       "</style>\n",
       "<table border=\"1\" class=\"dataframe\">\n",
       "  <thead>\n",
       "    <tr style=\"text-align: right;\">\n",
       "      <th></th>\n",
       "      <th>Borough</th>\n",
       "      <th>Neighborhood</th>\n",
       "      <th>ID</th>\n",
       "      <th>Name</th>\n",
       "    </tr>\n",
       "  </thead>\n",
       "  <tbody>\n",
       "    <tr>\n",
       "      <td>0</td>\n",
       "      <td>Bronx</td>\n",
       "      <td>Mott Haven</td>\n",
       "      <td>4bb28791715eef3b9f5e85bb</td>\n",
       "      <td>Pio Pio</td>\n",
       "    </tr>\n",
       "    <tr>\n",
       "      <td>1</td>\n",
       "      <td>Bronx</td>\n",
       "      <td>Port Morris</td>\n",
       "      <td>4bb28791715eef3b9f5e85bb</td>\n",
       "      <td>Pio Pio</td>\n",
       "    </tr>\n",
       "    <tr>\n",
       "      <td>2</td>\n",
       "      <td>Brooklyn</td>\n",
       "      <td>Bushwick</td>\n",
       "      <td>4c117b66416620a12136d9e4</td>\n",
       "      <td>Inca Chicken</td>\n",
       "    </tr>\n",
       "    <tr>\n",
       "      <td>3</td>\n",
       "      <td>Brooklyn</td>\n",
       "      <td>Gowanus</td>\n",
       "      <td>4db8c0fcfa8c978590c0f6f1</td>\n",
       "      <td>Surfish</td>\n",
       "    </tr>\n",
       "    <tr>\n",
       "      <td>4</td>\n",
       "      <td>Brooklyn</td>\n",
       "      <td>Bath Beach</td>\n",
       "      <td>4e3c94bc483b04e17a8b15a6</td>\n",
       "      <td>La granja</td>\n",
       "    </tr>\n",
       "  </tbody>\n",
       "</table>\n",
       "</div>"
      ],
      "text/plain": [
       "    Borough Neighborhood                        ID          Name\n",
       "0     Bronx   Mott Haven  4bb28791715eef3b9f5e85bb       Pio Pio\n",
       "1     Bronx  Port Morris  4bb28791715eef3b9f5e85bb       Pio Pio\n",
       "2  Brooklyn     Bushwick  4c117b66416620a12136d9e4  Inca Chicken\n",
       "3  Brooklyn      Gowanus  4db8c0fcfa8c978590c0f6f1       Surfish\n",
       "4  Brooklyn   Bath Beach  4e3c94bc483b04e17a8b15a6     La granja"
      ]
     },
     "execution_count": 29,
     "metadata": {},
     "output_type": "execute_result"
    }
   ],
   "source": [
    "peru_rest_ny.head()"
   ]
  },
  {
   "cell_type": "markdown",
   "metadata": {},
   "source": [
    "*When requesting data via the Foursquare API, sometimes a KeyError occurs. As a result, only a part of the full dataset is obtained. Therefore, the results of a successful download are saved to a CSV file so that they are available even if the API request fails.*"
   ]
  },
  {
   "cell_type": "code",
   "execution_count": 144,
   "metadata": {},
   "outputs": [],
   "source": [
    "#peru_rest_ny.to_csv('peru_rest_ny.csv', index=False)"
   ]
  },
  {
   "cell_type": "code",
   "execution_count": 146,
   "metadata": {},
   "outputs": [
    {
     "data": {
      "text/html": [
       "<div>\n",
       "<style scoped>\n",
       "    .dataframe tbody tr th:only-of-type {\n",
       "        vertical-align: middle;\n",
       "    }\n",
       "\n",
       "    .dataframe tbody tr th {\n",
       "        vertical-align: top;\n",
       "    }\n",
       "\n",
       "    .dataframe thead th {\n",
       "        text-align: right;\n",
       "    }\n",
       "</style>\n",
       "<table border=\"1\" class=\"dataframe\">\n",
       "  <thead>\n",
       "    <tr style=\"text-align: right;\">\n",
       "      <th></th>\n",
       "      <th>Borough</th>\n",
       "      <th>Neighborhood</th>\n",
       "      <th>ID</th>\n",
       "      <th>Name</th>\n",
       "    </tr>\n",
       "  </thead>\n",
       "  <tbody>\n",
       "    <tr>\n",
       "      <td>46</td>\n",
       "      <td>Queens</td>\n",
       "      <td>Blissville</td>\n",
       "      <td>51ec2df8498ee2a4dc8ee843</td>\n",
       "      <td>Don Pollo II</td>\n",
       "    </tr>\n",
       "    <tr>\n",
       "      <td>47</td>\n",
       "      <td>Brooklyn</td>\n",
       "      <td>Vinegar Hill</td>\n",
       "      <td>53d1a481498e1fac7c37f675</td>\n",
       "      <td>Pollo d'Oro</td>\n",
       "    </tr>\n",
       "    <tr>\n",
       "      <td>48</td>\n",
       "      <td>Brooklyn</td>\n",
       "      <td>Homecrest</td>\n",
       "      <td>4c12cbd7b7b9c928ef7ca837</td>\n",
       "      <td>Coney Island Taste</td>\n",
       "    </tr>\n",
       "    <tr>\n",
       "      <td>49</td>\n",
       "      <td>Manhattan</td>\n",
       "      <td>Hudson Yards</td>\n",
       "      <td>5babb7988194fc002c109112</td>\n",
       "      <td>Chirp</td>\n",
       "    </tr>\n",
       "    <tr>\n",
       "      <td>50</td>\n",
       "      <td>Manhattan</td>\n",
       "      <td>Hudson Yards</td>\n",
       "      <td>4b1b1f52f964a52074f823e3</td>\n",
       "      <td>Pio Pio</td>\n",
       "    </tr>\n",
       "  </tbody>\n",
       "</table>\n",
       "</div>"
      ],
      "text/plain": [
       "      Borough  Neighborhood                        ID                Name\n",
       "46     Queens    Blissville  51ec2df8498ee2a4dc8ee843        Don Pollo II\n",
       "47   Brooklyn  Vinegar Hill  53d1a481498e1fac7c37f675         Pollo d'Oro\n",
       "48   Brooklyn     Homecrest  4c12cbd7b7b9c928ef7ca837  Coney Island Taste\n",
       "49  Manhattan  Hudson Yards  5babb7988194fc002c109112               Chirp\n",
       "50  Manhattan  Hudson Yards  4b1b1f52f964a52074f823e3             Pio Pio"
      ]
     },
     "execution_count": 146,
     "metadata": {},
     "output_type": "execute_result"
    }
   ],
   "source": [
    "peru_rest_ny = pd.read_csv('peru_rest_ny.csv')\n",
    "peru_rest_ny.head()"
   ]
  },
  {
   "cell_type": "code",
   "execution_count": 38,
   "metadata": {},
   "outputs": [
    {
     "data": {
      "text/plain": [
       "(51, 4)"
      ]
     },
     "execution_count": 38,
     "metadata": {},
     "output_type": "execute_result"
    }
   ],
   "source": [
    "peru_rest_ny.shape"
   ]
  },
  {
   "cell_type": "markdown",
   "metadata": {},
   "source": [
    "#### **Question 1: How many Peruvian restaurants exist in New York City?**"
   ]
  },
  {
   "cell_type": "markdown",
   "metadata": {},
   "source": [
    "**We can see from the dataframe that there are 51 Peruvian restaurants in New York City.**"
   ]
  },
  {
   "cell_type": "markdown",
   "metadata": {},
   "source": [
    "How are the restaurants distributed among the boroughs? We again group and plot the dataframe:"
   ]
  },
  {
   "cell_type": "code",
   "execution_count": 39,
   "metadata": {},
   "outputs": [
    {
     "data": {
      "image/png": "[encoded data removed]",
      "text/plain": [
       "<Figure size 900x500 with 1 Axes>"
      ]
     },
     "metadata": {
      "needs_background": "light"
     },
     "output_type": "display_data"
    }
   ],
   "source": [
    "plt.figure(figsize=(9,5), dpi = 100)\n",
    "# title\n",
    "plt.title('Number of Peruvian Resturants in each Borough of New York City')\n",
    "#On x-axis\n",
    "plt.xlabel('Borough', fontsize = 15)\n",
    "#On y-axis\n",
    "plt.ylabel('No.of Peruvian Restaurants', fontsize=15)\n",
    "#giving a bar plot\n",
    "peru_rest_ny.groupby('Borough')['ID'].count().plot(kind='bar', color='darkred')\n",
    "#legend\n",
    "plt.legend()\n",
    "#displays the plot\n",
    "plt.show()"
   ]
  },
  {
   "cell_type": "code",
   "execution_count": 149,
   "metadata": {},
   "outputs": [
    {
     "data": {
      "text/plain": [
       "Borough\n",
       "Bronx             2\n",
       "Brooklyn          9\n",
       "Manhattan        11\n",
       "Queens           24\n",
       "Staten Island     5\n",
       "Name: ID, dtype: int64"
      ]
     },
     "execution_count": 149,
     "metadata": {},
     "output_type": "execute_result"
    }
   ],
   "source": [
    "peru_rest_ny.groupby('Borough')['ID'].count()"
   ]
  },
  {
   "cell_type": "markdown",
   "metadata": {},
   "source": [
    "#### **Question 2a: Which borough of New York City has the highest number of Peruvian restaurants?**"
   ]
  },
  {
   "cell_type": "markdown",
   "metadata": {},
   "source": [
    "**We can see that the borough with the highest number of Peruvian restaurants is Queens with 24 restaurants in total.**"
   ]
  },
  {
   "cell_type": "markdown",
   "metadata": {},
   "source": []
  },
  {
   "cell_type": "markdown",
   "metadata": {},
   "source": [
    "However, which are the neighborhoods with the highest number of Peruvian restaurants?"
   ]
  },
  {
   "cell_type": "markdown",
   "metadata": {},
   "source": [
    "We will repeat the analysis for neighborhoods instead of boroughs:"
   ]
  },
  {
   "cell_type": "code",
   "execution_count": 40,
   "metadata": {},
   "outputs": [
    {
     "data": {
      "image/png": "[encoded data removed]",
      "text/plain": [
       "<Figure size 900x500 with 1 Axes>"
      ]
     },
     "metadata": {
      "needs_background": "light"
     },
     "output_type": "display_data"
    }
   ],
   "source": [
    "plt.figure(figsize=(9,5), dpi = 100)\n",
    "# title\n",
    "plt.title('Number of Peruvian Restaurants for each Neighborhood in New York City')\n",
    "#On x-axis\n",
    "plt.xlabel('Neighborhood', fontsize = 15)\n",
    "#On y-axis\n",
    "plt.ylabel('No.of Peruvian Resturants', fontsize=15)\n",
    "#giving a bar plot\n",
    "peru_rest_ny.groupby('Neighborhood')['ID'].count().nlargest(5).plot(kind='bar', color='darkred')\n",
    "#legend\n",
    "plt.legend()\n",
    "#displays the plot\n",
    "plt.show()"
   ]
  },
  {
   "cell_type": "markdown",
   "metadata": {},
   "source": [
    "#### **Question 2b: Which neighborhood of New York City has the highest number of Peruvian restaurants?**"
   ]
  },
  {
   "cell_type": "markdown",
   "metadata": {},
   "source": [
    "**We can see that there is one neighborhood, Jackson Heights, which has four Peruvian restaurants.**"
   ]
  },
  {
   "cell_type": "markdown",
   "metadata": {},
   "source": [
    "**The four restaurants in Jackson Heights are shown below:**"
   ]
  },
  {
   "cell_type": "code",
   "execution_count": 42,
   "metadata": {},
   "outputs": [
    {
     "data": {
      "text/html": [
       "<div>\n",
       "<style scoped>\n",
       "    .dataframe tbody tr th:only-of-type {\n",
       "        vertical-align: middle;\n",
       "    }\n",
       "\n",
       "    .dataframe tbody tr th {\n",
       "        vertical-align: top;\n",
       "    }\n",
       "\n",
       "    .dataframe thead th {\n",
       "        text-align: right;\n",
       "    }\n",
       "</style>\n",
       "<table border=\"1\" class=\"dataframe\">\n",
       "  <thead>\n",
       "    <tr style=\"text-align: right;\">\n",
       "      <th></th>\n",
       "      <th>Borough</th>\n",
       "      <th>Neighborhood</th>\n",
       "      <th>ID</th>\n",
       "      <th>Name</th>\n",
       "    </tr>\n",
       "  </thead>\n",
       "  <tbody>\n",
       "    <tr>\n",
       "      <td>16</td>\n",
       "      <td>Queens</td>\n",
       "      <td>Jackson Heights</td>\n",
       "      <td>4b9ece55f964a520590337e3</td>\n",
       "      <td>Urubamba</td>\n",
       "    </tr>\n",
       "    <tr>\n",
       "      <td>17</td>\n",
       "      <td>Queens</td>\n",
       "      <td>Jackson Heights</td>\n",
       "      <td>4b8344cff964a520f0ff30e3</td>\n",
       "      <td>Pio Pio</td>\n",
       "    </tr>\n",
       "    <tr>\n",
       "      <td>18</td>\n",
       "      <td>Queens</td>\n",
       "      <td>Jackson Heights</td>\n",
       "      <td>4f9771e4e5e8dedda9c72330</td>\n",
       "      <td>Pio Pio to Go</td>\n",
       "    </tr>\n",
       "    <tr>\n",
       "      <td>19</td>\n",
       "      <td>Queens</td>\n",
       "      <td>Jackson Heights</td>\n",
       "      <td>557870be498e72ac68e380c0</td>\n",
       "      <td>Juanita’s Café</td>\n",
       "    </tr>\n",
       "  </tbody>\n",
       "</table>\n",
       "</div>"
      ],
      "text/plain": [
       "   Borough     Neighborhood                        ID            Name\n",
       "16  Queens  Jackson Heights  4b9ece55f964a520590337e3        Urubamba\n",
       "17  Queens  Jackson Heights  4b8344cff964a520f0ff30e3         Pio Pio\n",
       "18  Queens  Jackson Heights  4f9771e4e5e8dedda9c72330   Pio Pio to Go\n",
       "19  Queens  Jackson Heights  557870be498e72ac68e380c0  Juanita’s Café"
      ]
     },
     "execution_count": 42,
     "metadata": {},
     "output_type": "execute_result"
    }
   ],
   "source": [
    "peru_rest_ny[peru_rest_ny['Neighborhood']=='Jackson Heights']"
   ]
  },
  {
   "cell_type": "code",
   "execution_count": null,
   "metadata": {},
   "outputs": [],
   "source": []
  },
  {
   "cell_type": "markdown",
   "metadata": {},
   "source": [
    "## **4) Analyze the ratings of all restaurants**"
   ]
  },
  {
   "cell_type": "markdown",
   "metadata": {},
   "source": [
    "We will now analyze the ratings of all 51 Peruvian restaurants. To do so, we have to download the venue details via the FourSquare API:"
   ]
  },
  {
   "cell_type": "code",
   "execution_count": 85,
   "metadata": {},
   "outputs": [
    {
     "name": "stdout",
     "output_type": "stream",
     "text": [
      "                         ID     Name  Likes  Rating  Tips\n",
      "0  4bb28791715eef3b9f5e85bb  Pio Pio     67     8.8    23\n",
      "Restaurant 1 / 51 processed\n",
      "                         ID     Name  Likes  Rating  Tips\n",
      "0  4bb28791715eef3b9f5e85bb  Pio Pio     67     8.8    23\n",
      "Restaurant 2 / 51 processed\n",
      "                         ID          Name  Likes  Rating  Tips\n",
      "0  4c117b66416620a12136d9e4  Inca Chicken     34     8.5    15\n",
      "Restaurant 3 / 51 processed\n",
      "                         ID     Name  Likes  Rating  Tips\n",
      "0  4db8c0fcfa8c978590c0f6f1  Surfish    134     8.2    58\n",
      "Restaurant 4 / 51 processed\n",
      "                         ID       Name  Likes  Rating  Tips\n",
      "0  4e3c94bc483b04e17a8b15a6  La granja      6     6.9     6\n",
      "Restaurant 5 / 51 processed\n",
      "                         ID         Name  Likes  Rating  Tips\n",
      "0  53d1a481498e1fac7c37f675  Pollo d'Oro     43     8.3    16\n",
      "Restaurant 6 / 51 processed\n",
      "                         ID                      Name  Likes  Rating  Tips\n",
      "0  53cb315f498e5a7d7afbf60a  Lima Peruvian Restaurant      7     7.6     4\n",
      "Restaurant 7 / 51 processed\n",
      "                         ID                      Name  Likes  Rating  Tips\n",
      "0  53cb315f498e5a7d7afbf60a  Lima Peruvian Restaurant      7     7.6     4\n",
      "Restaurant 8 / 51 processed\n",
      "                         ID     Name  Likes  Rating  Tips\n",
      "0  4a1a1373f964a5207e7a1fe3  Pio Pio    167     7.9    72\n",
      "Restaurant 9 / 51 processed\n",
      "                         ID          Name  Likes  Rating  Tips\n",
      "0  4a7a543df964a5202ee91fe3  Flor de Mayo    200     8.3    93\n",
      "Restaurant 10 / 51 processed\n",
      "                         ID     Name  Likes  Rating  Tips\n",
      "0  4b1b1f52f964a52074f823e3  Pio Pio   1122     8.9   329\n",
      "Restaurant 11 / 51 processed\n",
      "                         ID   Name  Likes  Rating  Tips\n",
      "0  5babb7988194fc002c109112  Chirp     11     8.7     2\n",
      "Restaurant 12 / 51 processed\n",
      "                         ID       Name  Likes  Rating  Tips\n",
      "0  5b95359481a0ea002cdce0ce  Llama-San     80     9.0    14\n",
      "Restaurant 13 / 51 processed\n",
      "                         ID       Name  Likes  Rating  Tips\n",
      "0  5b95359481a0ea002cdce0ce  Llama-San     80     9.0    14\n",
      "Restaurant 14 / 51 processed\n",
      "                         ID           Name  Likes  Rating  Tips\n",
      "0  4ac29b8af964a520f79920e3  Pio Pio Salon    265     8.7    83\n",
      "Restaurant 15 / 51 processed\n",
      "                         ID          Name  Likes  Rating  Tips\n",
      "0  3fd66200f964a5205fe81ee3  Flor De Mayo    121     7.7    76\n",
      "Restaurant 16 / 51 processed\n",
      "                         ID      Name  Likes  Rating  Tips\n",
      "0  4b9ece55f964a520590337e3  Urubamba     96     8.5    49\n",
      "Restaurant 17 / 51 processed\n",
      "                         ID     Name  Likes  Rating  Tips\n",
      "0  4b8344cff964a520f0ff30e3  Pio Pio    308     8.3   108\n",
      "Restaurant 18 / 51 processed\n",
      "                         ID           Name  Likes  Rating  Tips\n",
      "0  4f9771e4e5e8dedda9c72330  Pio Pio to Go     24     8.2     5\n",
      "Restaurant 19 / 51 processed\n",
      "                         ID            Name  Likes  Rating  Tips\n",
      "0  557870be498e72ac68e380c0  Juanita’s Café      7     7.5     2\n",
      "Restaurant 20 / 51 processed\n",
      "                         ID      Name  Likes  Rating  Tips\n",
      "0  4b9ece55f964a520590337e3  Urubamba     96     8.5    49\n",
      "Restaurant 21 / 51 processed\n",
      "                         ID                              Name  Likes  Rating  \\\n",
      "0  4c6709cd9cedd13a7e7d77a1  Las Delicias Peruvian Restaurant     12     8.4   \n",
      "\n",
      "   Tips  \n",
      "0     8  \n",
      "Restaurant 22 / 51 processed\n",
      "                         ID                Name  Likes  Rating  Tips\n",
      "0  54568cc5498ed42af61bc55d  Tu Casa Restaurant     10     8.3     4\n",
      "Restaurant 23 / 51 processed\n",
      "                         ID        Name  Likes  Rating  Tips\n",
      "0  4b37cf54f964a520924625e3  Cuzco Peru     14     7.1     7\n",
      "Restaurant 24 / 51 processed\n",
      "                         ID                  Name  Likes  Rating  Tips\n",
      "0  4ccb05c1ba0a5481bde73359  Armando's Pollo Rico     10     7.5     9\n",
      "Restaurant 25 / 51 processed\n",
      "                         ID          Name  Likes  Rating  Tips\n",
      "0  51ec2df8498ee2a4dc8ee843  Don Pollo II      7     7.8     2\n",
      "Restaurant 26 / 51 processed\n",
      "                         ID  Name  Likes  Rating  Tips\n",
      "0  4b942c0cf964a5209f6c34e3  Riko     50     8.1    37\n",
      "Restaurant 27 / 51 processed\n",
      "                         ID       Name  Likes  Rating  Tips\n",
      "0  4d8ff6121d06b1f7df516b3b  Pico Rico      6     6.0    11\n",
      "Restaurant 28 / 51 processed\n",
      "                         ID              Name  Likes  Rating  Tips\n",
      "0  517467bde4b054415fe7c948  Andrea's Chicken     10     8.2     6\n",
      "Restaurant 29 / 51 processed\n",
      "                         ID                Name  Likes  Rating  Tips\n",
      "0  54568cc5498ed42af61bc55d  Tu Casa Restaurant     10     8.3     4\n",
      "Restaurant 30 / 51 processed\n",
      "                         ID              Name  Likes  Rating  Tips\n",
      "0  5161c05ce4b003de393ace70  Chicken Festival      7     6.1     4\n",
      "Restaurant 31 / 51 processed\n",
      "                         ID                Name  Likes  Rating  Tips\n",
      "0  52d1e8f4498e56474f235066  Lima 33 Restaurant     27     8.5     4\n",
      "Restaurant 32 / 51 processed\n",
      "                         ID                Name  Likes  Rating  Tips\n",
      "0  52d1e8f4498e56474f235066  Lima 33 Restaurant     27     8.5     4\n",
      "Restaurant 33 / 51 processed\n",
      "                         ID                              Name  Likes  Rating  \\\n",
      "0  4c6709cd9cedd13a7e7d77a1  Las Delicias Peruvian Restaurant     12     8.4   \n",
      "\n",
      "   Tips  \n",
      "0     8  \n",
      "Restaurant 34 / 51 processed\n",
      "                         ID       Name  Likes  Rating  Tips\n",
      "0  4d8ff6121d06b1f7df516b3b  Pico Rico      6     6.0    11\n",
      "Restaurant 35 / 51 processed\n",
      "                         ID           Name  Likes  Rating  Tips\n",
      "0  4bddf8396198c9b63e6c12ff  El Pollo Inka     28     7.4    20\n",
      "Restaurant 36 / 51 processed\n",
      "                         ID                           Name  Likes  Rating  \\\n",
      "0  536eb74e498e9a6b05cc9939  Inca's Grill Peruvian Cuisine     18     7.6   \n",
      "\n",
      "   Tips  \n",
      "0     8  \n",
      "Restaurant 37 / 51 processed\n",
      "                         ID                           Name  Likes  Rating  \\\n",
      "0  536eb74e498e9a6b05cc9939  Inca's Grill Peruvian Cuisine     18     7.6   \n",
      "\n",
      "   Tips  \n",
      "0     8  \n",
      "Restaurant 38 / 51 processed\n",
      "                         ID                           Name  Likes  Rating  \\\n",
      "0  536eb74e498e9a6b05cc9939  Inca's Grill Peruvian Cuisine     18     7.6   \n",
      "\n",
      "   Tips  \n",
      "0     8  \n",
      "Restaurant 39 / 51 processed\n",
      "                         ID                           Name  Likes  Rating  \\\n",
      "0  536eb74e498e9a6b05cc9939  Inca's Grill Peruvian Cuisine     18     7.6   \n",
      "\n",
      "   Tips  \n",
      "0     8  \n",
      "Restaurant 40 / 51 processed\n",
      "                         ID       Name  Likes  Rating  Tips\n",
      "0  4d0408ab8620224b93a8a640  Don Julio     17     7.3     7\n",
      "Restaurant 41 / 51 processed\n",
      "                         ID                      Name  Likes  Rating  Tips\n",
      "0  53cb315f498e5a7d7afbf60a  Lima Peruvian Restaurant      7     7.6     4\n",
      "Restaurant 42 / 51 processed\n",
      "                         ID  Name  Likes  Rating  Tips\n",
      "0  52b46aec11d2522f8646e332  Jora     94     8.5    23\n",
      "Restaurant 43 / 51 processed\n",
      "                         ID     Name  Likes  Rating  Tips\n",
      "0  4a11788bf964a52019771fe3  Pio Pio    254     8.2   104\n",
      "Restaurant 44 / 51 processed\n",
      "                         ID  Name  Likes  Rating  Tips\n",
      "0  4b942c0cf964a5209f6c34e3  Riko     50     8.1    37\n",
      "Restaurant 45 / 51 processed\n",
      "                         ID          Name  Likes  Rating  Tips\n",
      "0  51ec2df8498ee2a4dc8ee843  Don Pollo II      7     7.8     2\n",
      "Restaurant 46 / 51 processed\n",
      "                         ID          Name  Likes  Rating  Tips\n",
      "0  51ec2df8498ee2a4dc8ee843  Don Pollo II      7     7.8     2\n",
      "Restaurant 47 / 51 processed\n",
      "                         ID         Name  Likes  Rating  Tips\n",
      "0  53d1a481498e1fac7c37f675  Pollo d'Oro     43     8.3    16\n",
      "Restaurant 48 / 51 processed\n",
      "                         ID                Name  Likes  Rating  Tips\n",
      "0  4c12cbd7b7b9c928ef7ca837  Coney Island Taste      7     7.4     4\n",
      "Restaurant 49 / 51 processed\n",
      "                         ID   Name  Likes  Rating  Tips\n",
      "0  5babb7988194fc002c109112  Chirp     11     8.7     2\n",
      "Restaurant 50 / 51 processed\n",
      "                         ID     Name  Likes  Rating  Tips\n",
      "0  4b1b1f52f964a52074f823e3  Pio Pio   1122     8.9   329\n",
      "Restaurant 51 / 51 processed\n"
     ]
    }
   ],
   "source": [
    "column_names=['Borough', 'Neighborhood', 'ID','Name','Likes','Rating','Tips']\n",
    "peru_rest_stats_ny=pd.DataFrame(columns=column_names)\n",
    "count=1\n",
    "\n",
    "for row in peru_rest_ny.values.tolist():\n",
    "    Borough,Neighborhood,ID,Name=row\n",
    "    try:\n",
    "        venue_details=get_venue_details(ID)\n",
    "        print(venue_details)\n",
    "        id,name,likes,rating,tips=venue_details.values.tolist()[0]\n",
    "    except IndexError:\n",
    "        print('No data available for id=',ID)\n",
    "        # we will assign 0 value for these resturants as they may have been \n",
    "        #recently opened or details does not exist in FourSquare Database\n",
    "        id,name,likes,rating,tips=[0]*5\n",
    "    print('Restaurant',count,'/',len(peru_rest_ny),'processed')\n",
    "    peru_rest_stats_ny = peru_rest_stats_ny.append({'Borough': Borough,\n",
    "                                                'Neighborhood': Neighborhood, \n",
    "                                                'ID': id,\n",
    "                                                'Name' : name,\n",
    "                                                'Likes' : likes,\n",
    "                                                'Rating' : rating,\n",
    "                                                'Tips' : tips\n",
    "                                               }, ignore_index=True)\n",
    "    count+=1"
   ]
  },
  {
   "cell_type": "code",
   "execution_count": 140,
   "metadata": {},
   "outputs": [
    {
     "data": {
      "text/html": [
       "<div>\n",
       "<style scoped>\n",
       "    .dataframe tbody tr th:only-of-type {\n",
       "        vertical-align: middle;\n",
       "    }\n",
       "\n",
       "    .dataframe tbody tr th {\n",
       "        vertical-align: top;\n",
       "    }\n",
       "\n",
       "    .dataframe thead th {\n",
       "        text-align: right;\n",
       "    }\n",
       "</style>\n",
       "<table border=\"1\" class=\"dataframe\">\n",
       "  <thead>\n",
       "    <tr style=\"text-align: right;\">\n",
       "      <th></th>\n",
       "      <th>Borough</th>\n",
       "      <th>Neighborhood</th>\n",
       "      <th>ID</th>\n",
       "      <th>Name</th>\n",
       "      <th>Likes</th>\n",
       "      <th>Rating</th>\n",
       "      <th>Tips</th>\n",
       "    </tr>\n",
       "  </thead>\n",
       "  <tbody>\n",
       "    <tr>\n",
       "      <td>0</td>\n",
       "      <td>Bronx</td>\n",
       "      <td>Mott Haven</td>\n",
       "      <td>4bb28791715eef3b9f5e85bb</td>\n",
       "      <td>Pio Pio</td>\n",
       "      <td>67.0</td>\n",
       "      <td>8.8</td>\n",
       "      <td>23.0</td>\n",
       "    </tr>\n",
       "    <tr>\n",
       "      <td>1</td>\n",
       "      <td>Bronx</td>\n",
       "      <td>Port Morris</td>\n",
       "      <td>4bb28791715eef3b9f5e85bb</td>\n",
       "      <td>Pio Pio</td>\n",
       "      <td>67.0</td>\n",
       "      <td>8.8</td>\n",
       "      <td>23.0</td>\n",
       "    </tr>\n",
       "    <tr>\n",
       "      <td>2</td>\n",
       "      <td>Brooklyn</td>\n",
       "      <td>Bushwick</td>\n",
       "      <td>4c117b66416620a12136d9e4</td>\n",
       "      <td>Inca Chicken</td>\n",
       "      <td>34.0</td>\n",
       "      <td>8.5</td>\n",
       "      <td>15.0</td>\n",
       "    </tr>\n",
       "    <tr>\n",
       "      <td>3</td>\n",
       "      <td>Brooklyn</td>\n",
       "      <td>Gowanus</td>\n",
       "      <td>4db8c0fcfa8c978590c0f6f1</td>\n",
       "      <td>Surfish</td>\n",
       "      <td>134.0</td>\n",
       "      <td>8.2</td>\n",
       "      <td>58.0</td>\n",
       "    </tr>\n",
       "    <tr>\n",
       "      <td>4</td>\n",
       "      <td>Brooklyn</td>\n",
       "      <td>Bath Beach</td>\n",
       "      <td>4e3c94bc483b04e17a8b15a6</td>\n",
       "      <td>La granja</td>\n",
       "      <td>6.0</td>\n",
       "      <td>6.9</td>\n",
       "      <td>6.0</td>\n",
       "    </tr>\n",
       "  </tbody>\n",
       "</table>\n",
       "</div>"
      ],
      "text/plain": [
       "    Borough Neighborhood                        ID          Name  Likes  \\\n",
       "0     Bronx   Mott Haven  4bb28791715eef3b9f5e85bb       Pio Pio   67.0   \n",
       "1     Bronx  Port Morris  4bb28791715eef3b9f5e85bb       Pio Pio   67.0   \n",
       "2  Brooklyn     Bushwick  4c117b66416620a12136d9e4  Inca Chicken   34.0   \n",
       "3  Brooklyn      Gowanus  4db8c0fcfa8c978590c0f6f1       Surfish  134.0   \n",
       "4  Brooklyn   Bath Beach  4e3c94bc483b04e17a8b15a6     La granja    6.0   \n",
       "\n",
       "   Rating  Tips  \n",
       "0     8.8  23.0  \n",
       "1     8.8  23.0  \n",
       "2     8.5  15.0  \n",
       "3     8.2  58.0  \n",
       "4     6.9   6.0  "
      ]
     },
     "execution_count": 140,
     "metadata": {},
     "output_type": "execute_result"
    }
   ],
   "source": [
    "peru_rest_stats_ny.head()"
   ]
  },
  {
   "cell_type": "markdown",
   "metadata": {},
   "source": [
    "*When requesting data via the Foursquare API, sometimes a KeyError occurs. As a result, only a part of the full dataset is obtained. Therefore, the results of a successful download are saved to a CSV file so that they are available even if the API request fails.*"
   ]
  },
  {
   "cell_type": "code",
   "execution_count": 87,
   "metadata": {},
   "outputs": [],
   "source": [
    "#peru_rest_stats_ny.to_csv('peru_rest_stats_ny.csv', index=False)"
   ]
  },
  {
   "cell_type": "code",
   "execution_count": 152,
   "metadata": {},
   "outputs": [
    {
     "data": {
      "text/html": [
       "<div>\n",
       "<style scoped>\n",
       "    .dataframe tbody tr th:only-of-type {\n",
       "        vertical-align: middle;\n",
       "    }\n",
       "\n",
       "    .dataframe tbody tr th {\n",
       "        vertical-align: top;\n",
       "    }\n",
       "\n",
       "    .dataframe thead th {\n",
       "        text-align: right;\n",
       "    }\n",
       "</style>\n",
       "<table border=\"1\" class=\"dataframe\">\n",
       "  <thead>\n",
       "    <tr style=\"text-align: right;\">\n",
       "      <th></th>\n",
       "      <th>Borough</th>\n",
       "      <th>Neighborhood</th>\n",
       "      <th>ID</th>\n",
       "      <th>Name</th>\n",
       "      <th>Likes</th>\n",
       "      <th>Rating</th>\n",
       "      <th>Tips</th>\n",
       "    </tr>\n",
       "  </thead>\n",
       "  <tbody>\n",
       "    <tr>\n",
       "      <td>0</td>\n",
       "      <td>Bronx</td>\n",
       "      <td>Mott Haven</td>\n",
       "      <td>4bb28791715eef3b9f5e85bb</td>\n",
       "      <td>Pio Pio</td>\n",
       "      <td>67</td>\n",
       "      <td>8.8</td>\n",
       "      <td>23</td>\n",
       "    </tr>\n",
       "    <tr>\n",
       "      <td>1</td>\n",
       "      <td>Bronx</td>\n",
       "      <td>Port Morris</td>\n",
       "      <td>4bb28791715eef3b9f5e85bb</td>\n",
       "      <td>Pio Pio</td>\n",
       "      <td>67</td>\n",
       "      <td>8.8</td>\n",
       "      <td>23</td>\n",
       "    </tr>\n",
       "    <tr>\n",
       "      <td>2</td>\n",
       "      <td>Brooklyn</td>\n",
       "      <td>Bushwick</td>\n",
       "      <td>4c117b66416620a12136d9e4</td>\n",
       "      <td>Inca Chicken</td>\n",
       "      <td>34</td>\n",
       "      <td>8.5</td>\n",
       "      <td>15</td>\n",
       "    </tr>\n",
       "    <tr>\n",
       "      <td>3</td>\n",
       "      <td>Brooklyn</td>\n",
       "      <td>Gowanus</td>\n",
       "      <td>4db8c0fcfa8c978590c0f6f1</td>\n",
       "      <td>Surfish</td>\n",
       "      <td>134</td>\n",
       "      <td>8.2</td>\n",
       "      <td>58</td>\n",
       "    </tr>\n",
       "    <tr>\n",
       "      <td>4</td>\n",
       "      <td>Brooklyn</td>\n",
       "      <td>Bath Beach</td>\n",
       "      <td>4e3c94bc483b04e17a8b15a6</td>\n",
       "      <td>La granja</td>\n",
       "      <td>6</td>\n",
       "      <td>6.9</td>\n",
       "      <td>6</td>\n",
       "    </tr>\n",
       "  </tbody>\n",
       "</table>\n",
       "</div>"
      ],
      "text/plain": [
       "    Borough Neighborhood                        ID          Name  Likes  \\\n",
       "0     Bronx   Mott Haven  4bb28791715eef3b9f5e85bb       Pio Pio     67   \n",
       "1     Bronx  Port Morris  4bb28791715eef3b9f5e85bb       Pio Pio     67   \n",
       "2  Brooklyn     Bushwick  4c117b66416620a12136d9e4  Inca Chicken     34   \n",
       "3  Brooklyn      Gowanus  4db8c0fcfa8c978590c0f6f1       Surfish    134   \n",
       "4  Brooklyn   Bath Beach  4e3c94bc483b04e17a8b15a6     La granja      6   \n",
       "\n",
       "   Rating  Tips  \n",
       "0     8.8    23  \n",
       "1     8.8    23  \n",
       "2     8.5    15  \n",
       "3     8.2    58  \n",
       "4     6.9     6  "
      ]
     },
     "execution_count": 152,
     "metadata": {},
     "output_type": "execute_result"
    }
   ],
   "source": [
    "peru_rest_stats_ny = pd.read_csv('peru_rest_stats_ny.csv')\n",
    "peru_rest_stats_ny.head()"
   ]
  },
  {
   "cell_type": "markdown",
   "metadata": {},
   "source": [
    "Convert data saved as strings to float:"
   ]
  },
  {
   "cell_type": "code",
   "execution_count": 95,
   "metadata": {},
   "outputs": [],
   "source": [
    "peru_rest_stats_ny['Likes']=peru_rest_stats_ny['Likes'].astype('float64')\n",
    "peru_rest_stats_ny['Tips']=peru_rest_stats_ny['Tips'].astype('float64')\n",
    "#peru_rest_stats_ny.info()"
   ]
  },
  {
   "cell_type": "markdown",
   "metadata": {},
   "source": [
    "We can now look for the best Peruvian restaurant. We will consider two criteria: Ratings and Likes."
   ]
  },
  {
   "cell_type": "markdown",
   "metadata": {},
   "source": [
    "First, we determine the restaurant with the best ratings:"
   ]
  },
  {
   "cell_type": "code",
   "execution_count": 98,
   "metadata": {},
   "outputs": [
    {
     "data": {
      "text/plain": [
       "Borough                        Manhattan\n",
       "Neighborhood           Greenwich Village\n",
       "ID              5b95359481a0ea002cdce0ce\n",
       "Name                           Llama-San\n",
       "Likes                                 80\n",
       "Rating                                 9\n",
       "Tips                                  14\n",
       "Name: 12, dtype: object"
      ]
     },
     "execution_count": 98,
     "metadata": {},
     "output_type": "execute_result"
    }
   ],
   "source": [
    "peru_rest_stats_ny.iloc[peru_rest_stats_ny['Rating'].idxmax()]"
   ]
  },
  {
   "cell_type": "markdown",
   "metadata": {},
   "source": [
    "Second, we determine the restaurant with the highest number of likes:"
   ]
  },
  {
   "cell_type": "code",
   "execution_count": 97,
   "metadata": {},
   "outputs": [
    {
     "data": {
      "text/plain": [
       "Borough                        Manhattan\n",
       "Neighborhood                     Clinton\n",
       "ID              4b1b1f52f964a52074f823e3\n",
       "Name                             Pio Pio\n",
       "Likes                               1122\n",
       "Rating                               8.9\n",
       "Tips                                 329\n",
       "Name: 10, dtype: object"
      ]
     },
     "execution_count": 97,
     "metadata": {},
     "output_type": "execute_result"
    }
   ],
   "source": [
    "peru_rest_stats_ny.iloc[peru_rest_stats_ny['Likes'].idxmax()]"
   ]
  },
  {
   "cell_type": "markdown",
   "metadata": {},
   "source": [
    "#### **Question 3: Which is the best Peruvian restaurant in New York City?**"
   ]
  },
  {
   "cell_type": "markdown",
   "metadata": {},
   "source": [
    "**The restaurant with the highest rating is Llama-San in Greenwich Village, Manhattan. The restaurant with the highest number of likes is Pio Pio which is also located in Manhattan (Clinton).**"
   ]
  },
  {
   "cell_type": "markdown",
   "metadata": {},
   "source": [
    "## **5) Identify and plot the best areas for Peruvian cuisine in New York City**"
   ]
  },
  {
   "cell_type": "markdown",
   "metadata": {},
   "source": [
    "We will now combine the results from step 2) and step 3) to find the best boroughs and neighborhoods with respect to Peruvian cuisine."
   ]
  },
  {
   "cell_type": "code",
   "execution_count": 100,
   "metadata": {},
   "outputs": [],
   "source": [
    "ny_neighborhood_stats=peru_rest_stats_ny.groupby('Neighborhood',as_index=False).mean()[['Neighborhood','Rating']]\n",
    "ny_neighborhood_stats.columns=['Neighborhood','Average Rating']"
   ]
  },
  {
   "cell_type": "code",
   "execution_count": 101,
   "metadata": {},
   "outputs": [
    {
     "data": {
      "text/html": [
       "<div>\n",
       "<style scoped>\n",
       "    .dataframe tbody tr th:only-of-type {\n",
       "        vertical-align: middle;\n",
       "    }\n",
       "\n",
       "    .dataframe tbody tr th {\n",
       "        vertical-align: top;\n",
       "    }\n",
       "\n",
       "    .dataframe thead th {\n",
       "        text-align: right;\n",
       "    }\n",
       "</style>\n",
       "<table border=\"1\" class=\"dataframe\">\n",
       "  <thead>\n",
       "    <tr style=\"text-align: right;\">\n",
       "      <th></th>\n",
       "      <th>Neighborhood</th>\n",
       "      <th>Average Rating</th>\n",
       "    </tr>\n",
       "  </thead>\n",
       "  <tbody>\n",
       "    <tr>\n",
       "      <td>39</td>\n",
       "      <td>West Village</td>\n",
       "      <td>9.0</td>\n",
       "    </tr>\n",
       "    <tr>\n",
       "      <td>17</td>\n",
       "      <td>Greenwich Village</td>\n",
       "      <td>9.0</td>\n",
       "    </tr>\n",
       "    <tr>\n",
       "      <td>20</td>\n",
       "      <td>Hudson Yards</td>\n",
       "      <td>8.8</td>\n",
       "    </tr>\n",
       "    <tr>\n",
       "      <td>27</td>\n",
       "      <td>Mott Haven</td>\n",
       "      <td>8.8</td>\n",
       "    </tr>\n",
       "    <tr>\n",
       "      <td>5</td>\n",
       "      <td>Clinton</td>\n",
       "      <td>8.8</td>\n",
       "    </tr>\n",
       "    <tr>\n",
       "      <td>31</td>\n",
       "      <td>Port Morris</td>\n",
       "      <td>8.8</td>\n",
       "    </tr>\n",
       "    <tr>\n",
       "      <td>23</td>\n",
       "      <td>Little Neck</td>\n",
       "      <td>8.5</td>\n",
       "    </tr>\n",
       "    <tr>\n",
       "      <td>21</td>\n",
       "      <td>Hunters Point</td>\n",
       "      <td>8.5</td>\n",
       "    </tr>\n",
       "    <tr>\n",
       "      <td>11</td>\n",
       "      <td>Elmhurst</td>\n",
       "      <td>8.5</td>\n",
       "    </tr>\n",
       "    <tr>\n",
       "      <td>8</td>\n",
       "      <td>Douglaston</td>\n",
       "      <td>8.5</td>\n",
       "    </tr>\n",
       "  </tbody>\n",
       "</table>\n",
       "</div>"
      ],
      "text/plain": [
       "         Neighborhood  Average Rating\n",
       "39       West Village             9.0\n",
       "17  Greenwich Village             9.0\n",
       "20       Hudson Yards             8.8\n",
       "27         Mott Haven             8.8\n",
       "5             Clinton             8.8\n",
       "31        Port Morris             8.8\n",
       "23        Little Neck             8.5\n",
       "21      Hunters Point             8.5\n",
       "11           Elmhurst             8.5\n",
       "8          Douglaston             8.5"
      ]
     },
     "execution_count": 101,
     "metadata": {},
     "output_type": "execute_result"
    }
   ],
   "source": [
    "ny_neighborhood_stats.sort_values(['Average Rating'],ascending=False).head(10)"
   ]
  },
  {
   "cell_type": "markdown",
   "metadata": {},
   "source": [
    "#### **Question 4a: Which neighborhood has the best Peruvian restaurants?**"
   ]
  },
  {
   "cell_type": "markdown",
   "metadata": {},
   "source": [
    "**We can see that West Village and Greenwich Village are excellent neighborhoods with regards to Peruvian cuisine as both have an average rating of 9.0.**"
   ]
  },
  {
   "cell_type": "markdown",
   "metadata": {},
   "source": [
    "In the same way, we will now determine the average rating of Peruvian restaurants in each borough."
   ]
  },
  {
   "cell_type": "code",
   "execution_count": 122,
   "metadata": {},
   "outputs": [],
   "source": [
    "ny_borough_stats = peru_rest_stats_ny.groupby('Borough',as_index=False).mean()[['Borough','Rating']]\n",
    "ny_borough_stats.columns = ['Borough','Average Rating']"
   ]
  },
  {
   "cell_type": "code",
   "execution_count": 139,
   "metadata": {},
   "outputs": [
    {
     "data": {
      "text/html": [
       "<div>\n",
       "<style scoped>\n",
       "    .dataframe tbody tr th:only-of-type {\n",
       "        vertical-align: middle;\n",
       "    }\n",
       "\n",
       "    .dataframe tbody tr th {\n",
       "        vertical-align: top;\n",
       "    }\n",
       "\n",
       "    .dataframe thead th {\n",
       "        text-align: right;\n",
       "    }\n",
       "</style>\n",
       "<table border=\"1\" class=\"dataframe\">\n",
       "  <thead>\n",
       "    <tr style=\"text-align: right;\">\n",
       "      <th></th>\n",
       "      <th>Borough</th>\n",
       "      <th>Average Rating</th>\n",
       "    </tr>\n",
       "  </thead>\n",
       "  <tbody>\n",
       "    <tr>\n",
       "      <td>0</td>\n",
       "      <td>Bronx</td>\n",
       "      <td>8.800000</td>\n",
       "    </tr>\n",
       "    <tr>\n",
       "      <td>2</td>\n",
       "      <td>Manhattan</td>\n",
       "      <td>8.545455</td>\n",
       "    </tr>\n",
       "    <tr>\n",
       "      <td>3</td>\n",
       "      <td>Queens</td>\n",
       "      <td>7.825000</td>\n",
       "    </tr>\n",
       "    <tr>\n",
       "      <td>1</td>\n",
       "      <td>Brooklyn</td>\n",
       "      <td>7.822222</td>\n",
       "    </tr>\n",
       "    <tr>\n",
       "      <td>4</td>\n",
       "      <td>Staten Island</td>\n",
       "      <td>7.540000</td>\n",
       "    </tr>\n",
       "  </tbody>\n",
       "</table>\n",
       "</div>"
      ],
      "text/plain": [
       "         Borough  Average Rating\n",
       "0          Bronx        8.800000\n",
       "2      Manhattan        8.545455\n",
       "3         Queens        7.825000\n",
       "1       Brooklyn        7.822222\n",
       "4  Staten Island        7.540000"
      ]
     },
     "execution_count": 139,
     "metadata": {},
     "output_type": "execute_result"
    }
   ],
   "source": [
    "ny_borough_stats.sort_values(['Average Rating'],ascending=False).head()"
   ]
  },
  {
   "cell_type": "markdown",
   "metadata": {},
   "source": [
    "#### **Question 4b: Which borough has the best Peruvian restaurants?**"
   ]
  },
  {
   "cell_type": "markdown",
   "metadata": {},
   "source": [
    "**We can see that although Queens has the most Peruvian restaurants and also the best ones, the Bronx has the highest average rating.**"
   ]
  },
  {
   "cell_type": "markdown",
   "metadata": {},
   "source": [
    "Now we will visualize this result:"
   ]
  },
  {
   "cell_type": "code",
   "execution_count": 125,
   "metadata": {},
   "outputs": [
    {
     "data": {
      "image/png": "[encoded data removed]",
      "text/plain": [
       "<Figure size 900x500 with 1 Axes>"
      ]
     },
     "metadata": {
      "needs_background": "light"
     },
     "output_type": "display_data"
    }
   ],
   "source": [
    "plt.figure(figsize=(9,5), dpi = 100)\n",
    "# title\n",
    "plt.title('Average rating of Peruvian restaurants for each Borough')\n",
    "#On x-axis\n",
    "plt.xlabel('Borough', fontsize = 15)\n",
    "#On y-axis\n",
    "plt.ylabel('Average Rating', fontsize=15)\n",
    "#giving a bar plot\n",
    "peru_rest_stats_ny.groupby('Borough').mean()['Rating'].plot(kind='bar',color='darkred')\n",
    "#legend\n",
    "plt.legend()\n",
    "#displays the plot\n",
    "plt.show()"
   ]
  },
  {
   "cell_type": "markdown",
   "metadata": {},
   "source": [
    "As we are looking for very good restaurants, we will focus now on neighborhoods with an average rating of 8.5 or higher."
   ]
  },
  {
   "cell_type": "code",
   "execution_count": 130,
   "metadata": {},
   "outputs": [],
   "source": [
    "ny_neighborhood_stats=ny_neighborhood_stats[ny_neighborhood_stats['Average Rating']>=8.5]"
   ]
  },
  {
   "cell_type": "code",
   "execution_count": 131,
   "metadata": {},
   "outputs": [
    {
     "data": {
      "text/html": [
       "<div>\n",
       "<style scoped>\n",
       "    .dataframe tbody tr th:only-of-type {\n",
       "        vertical-align: middle;\n",
       "    }\n",
       "\n",
       "    .dataframe tbody tr th {\n",
       "        vertical-align: top;\n",
       "    }\n",
       "\n",
       "    .dataframe thead th {\n",
       "        text-align: right;\n",
       "    }\n",
       "</style>\n",
       "<table border=\"1\" class=\"dataframe\">\n",
       "  <thead>\n",
       "    <tr style=\"text-align: right;\">\n",
       "      <th></th>\n",
       "      <th>Borough_x</th>\n",
       "      <th>Neighborhood</th>\n",
       "      <th>Latitude_x</th>\n",
       "      <th>Longitude_x</th>\n",
       "      <th>Average Rating</th>\n",
       "      <th>Label</th>\n",
       "      <th>Borough_y</th>\n",
       "      <th>Latitude_y</th>\n",
       "      <th>Longitude_y</th>\n",
       "    </tr>\n",
       "  </thead>\n",
       "  <tbody>\n",
       "    <tr>\n",
       "      <td>0</td>\n",
       "      <td>Brooklyn</td>\n",
       "      <td>Bushwick</td>\n",
       "      <td>40.698116</td>\n",
       "      <td>-73.925258</td>\n",
       "      <td>8.5</td>\n",
       "      <td>Bushwick, Brooklyn(8.5)</td>\n",
       "      <td>Brooklyn</td>\n",
       "      <td>40.698116</td>\n",
       "      <td>-73.925258</td>\n",
       "    </tr>\n",
       "    <tr>\n",
       "      <td>1</td>\n",
       "      <td>Manhattan</td>\n",
       "      <td>Clinton</td>\n",
       "      <td>40.759101</td>\n",
       "      <td>-73.996119</td>\n",
       "      <td>8.8</td>\n",
       "      <td>Clinton, Manhattan(8.8)</td>\n",
       "      <td>Manhattan</td>\n",
       "      <td>40.759101</td>\n",
       "      <td>-73.996119</td>\n",
       "    </tr>\n",
       "    <tr>\n",
       "      <td>2</td>\n",
       "      <td>Queens</td>\n",
       "      <td>Douglaston</td>\n",
       "      <td>40.766846</td>\n",
       "      <td>-73.742498</td>\n",
       "      <td>8.5</td>\n",
       "      <td>Douglaston, Queens(8.5)</td>\n",
       "      <td>Queens</td>\n",
       "      <td>40.766846</td>\n",
       "      <td>-73.742498</td>\n",
       "    </tr>\n",
       "    <tr>\n",
       "      <td>3</td>\n",
       "      <td>Queens</td>\n",
       "      <td>Elmhurst</td>\n",
       "      <td>40.744049</td>\n",
       "      <td>-73.881656</td>\n",
       "      <td>8.5</td>\n",
       "      <td>Elmhurst, Queens(8.5)</td>\n",
       "      <td>Queens</td>\n",
       "      <td>40.744049</td>\n",
       "      <td>-73.881656</td>\n",
       "    </tr>\n",
       "    <tr>\n",
       "      <td>4</td>\n",
       "      <td>Manhattan</td>\n",
       "      <td>Greenwich Village</td>\n",
       "      <td>40.726933</td>\n",
       "      <td>-73.999914</td>\n",
       "      <td>9.0</td>\n",
       "      <td>Greenwich Village, Manhattan(9.0)</td>\n",
       "      <td>Manhattan</td>\n",
       "      <td>40.726933</td>\n",
       "      <td>-73.999914</td>\n",
       "    </tr>\n",
       "    <tr>\n",
       "      <td>5</td>\n",
       "      <td>Manhattan</td>\n",
       "      <td>Hudson Yards</td>\n",
       "      <td>40.756658</td>\n",
       "      <td>-74.000111</td>\n",
       "      <td>8.8</td>\n",
       "      <td>Hudson Yards, Manhattan(8.8)</td>\n",
       "      <td>Manhattan</td>\n",
       "      <td>40.756658</td>\n",
       "      <td>-74.000111</td>\n",
       "    </tr>\n",
       "    <tr>\n",
       "      <td>6</td>\n",
       "      <td>Queens</td>\n",
       "      <td>Hunters Point</td>\n",
       "      <td>40.743414</td>\n",
       "      <td>-73.953868</td>\n",
       "      <td>8.5</td>\n",
       "      <td>Hunters Point, Queens(8.5)</td>\n",
       "      <td>Queens</td>\n",
       "      <td>40.743414</td>\n",
       "      <td>-73.953868</td>\n",
       "    </tr>\n",
       "    <tr>\n",
       "      <td>7</td>\n",
       "      <td>Queens</td>\n",
       "      <td>Little Neck</td>\n",
       "      <td>40.770826</td>\n",
       "      <td>-73.738898</td>\n",
       "      <td>8.5</td>\n",
       "      <td>Little Neck, Queens(8.5)</td>\n",
       "      <td>Queens</td>\n",
       "      <td>40.770826</td>\n",
       "      <td>-73.738898</td>\n",
       "    </tr>\n",
       "    <tr>\n",
       "      <td>8</td>\n",
       "      <td>Bronx</td>\n",
       "      <td>Mott Haven</td>\n",
       "      <td>40.806239</td>\n",
       "      <td>-73.916100</td>\n",
       "      <td>8.8</td>\n",
       "      <td>Mott Haven, Bronx(8.8)</td>\n",
       "      <td>Bronx</td>\n",
       "      <td>40.806239</td>\n",
       "      <td>-73.916100</td>\n",
       "    </tr>\n",
       "    <tr>\n",
       "      <td>9</td>\n",
       "      <td>Bronx</td>\n",
       "      <td>Port Morris</td>\n",
       "      <td>40.801664</td>\n",
       "      <td>-73.913221</td>\n",
       "      <td>8.8</td>\n",
       "      <td>Port Morris, Bronx(8.8)</td>\n",
       "      <td>Bronx</td>\n",
       "      <td>40.801664</td>\n",
       "      <td>-73.913221</td>\n",
       "    </tr>\n",
       "    <tr>\n",
       "      <td>10</td>\n",
       "      <td>Manhattan</td>\n",
       "      <td>West Village</td>\n",
       "      <td>40.734434</td>\n",
       "      <td>-74.006180</td>\n",
       "      <td>9.0</td>\n",
       "      <td>West Village, Manhattan(9.0)</td>\n",
       "      <td>Manhattan</td>\n",
       "      <td>40.734434</td>\n",
       "      <td>-74.006180</td>\n",
       "    </tr>\n",
       "  </tbody>\n",
       "</table>\n",
       "</div>"
      ],
      "text/plain": [
       "    Borough_x       Neighborhood  Latitude_x  Longitude_x  Average Rating  \\\n",
       "0    Brooklyn           Bushwick   40.698116   -73.925258             8.5   \n",
       "1   Manhattan            Clinton   40.759101   -73.996119             8.8   \n",
       "2      Queens         Douglaston   40.766846   -73.742498             8.5   \n",
       "3      Queens           Elmhurst   40.744049   -73.881656             8.5   \n",
       "4   Manhattan  Greenwich Village   40.726933   -73.999914             9.0   \n",
       "5   Manhattan       Hudson Yards   40.756658   -74.000111             8.8   \n",
       "6      Queens      Hunters Point   40.743414   -73.953868             8.5   \n",
       "7      Queens        Little Neck   40.770826   -73.738898             8.5   \n",
       "8       Bronx         Mott Haven   40.806239   -73.916100             8.8   \n",
       "9       Bronx        Port Morris   40.801664   -73.913221             8.8   \n",
       "10  Manhattan       West Village   40.734434   -74.006180             9.0   \n",
       "\n",
       "                                Label  Borough_y  Latitude_y  Longitude_y  \n",
       "0             Bushwick, Brooklyn(8.5)   Brooklyn   40.698116   -73.925258  \n",
       "1             Clinton, Manhattan(8.8)  Manhattan   40.759101   -73.996119  \n",
       "2             Douglaston, Queens(8.5)     Queens   40.766846   -73.742498  \n",
       "3               Elmhurst, Queens(8.5)     Queens   40.744049   -73.881656  \n",
       "4   Greenwich Village, Manhattan(9.0)  Manhattan   40.726933   -73.999914  \n",
       "5        Hudson Yards, Manhattan(8.8)  Manhattan   40.756658   -74.000111  \n",
       "6          Hunters Point, Queens(8.5)     Queens   40.743414   -73.953868  \n",
       "7            Little Neck, Queens(8.5)     Queens   40.770826   -73.738898  \n",
       "8              Mott Haven, Bronx(8.8)      Bronx   40.806239   -73.916100  \n",
       "9             Port Morris, Bronx(8.8)      Bronx   40.801664   -73.913221  \n",
       "10       West Village, Manhattan(9.0)  Manhattan   40.734434   -74.006180  "
      ]
     },
     "execution_count": 131,
     "metadata": {},
     "output_type": "execute_result"
    }
   ],
   "source": [
    "ny_neighborhood_stats"
   ]
  },
  {
   "cell_type": "markdown",
   "metadata": {},
   "source": [
    "To plot these neighborhoods in a map, we add the longitude and latitude from the New York data set above."
   ]
  },
  {
   "cell_type": "code",
   "execution_count": 132,
   "metadata": {},
   "outputs": [],
   "source": [
    "ny_neighborhood_stats=pd.merge(ny_neighborhood_stats,new_york_data, on='Neighborhood')"
   ]
  },
  {
   "cell_type": "code",
   "execution_count": 133,
   "metadata": {},
   "outputs": [],
   "source": [
    "ny_neighborhood_stats=ny_neighborhood_stats[['Borough','Neighborhood','Latitude','Longitude','Average Rating']]"
   ]
  },
  {
   "cell_type": "code",
   "execution_count": 134,
   "metadata": {},
   "outputs": [
    {
     "data": {
      "text/html": [
       "<div>\n",
       "<style scoped>\n",
       "    .dataframe tbody tr th:only-of-type {\n",
       "        vertical-align: middle;\n",
       "    }\n",
       "\n",
       "    .dataframe tbody tr th {\n",
       "        vertical-align: top;\n",
       "    }\n",
       "\n",
       "    .dataframe thead th {\n",
       "        text-align: right;\n",
       "    }\n",
       "</style>\n",
       "<table border=\"1\" class=\"dataframe\">\n",
       "  <thead>\n",
       "    <tr style=\"text-align: right;\">\n",
       "      <th></th>\n",
       "      <th>Borough</th>\n",
       "      <th>Neighborhood</th>\n",
       "      <th>Latitude</th>\n",
       "      <th>Longitude</th>\n",
       "      <th>Average Rating</th>\n",
       "    </tr>\n",
       "  </thead>\n",
       "  <tbody>\n",
       "    <tr>\n",
       "      <td>0</td>\n",
       "      <td>Brooklyn</td>\n",
       "      <td>Bushwick</td>\n",
       "      <td>40.698116</td>\n",
       "      <td>-73.925258</td>\n",
       "      <td>8.5</td>\n",
       "    </tr>\n",
       "    <tr>\n",
       "      <td>1</td>\n",
       "      <td>Manhattan</td>\n",
       "      <td>Clinton</td>\n",
       "      <td>40.759101</td>\n",
       "      <td>-73.996119</td>\n",
       "      <td>8.8</td>\n",
       "    </tr>\n",
       "    <tr>\n",
       "      <td>2</td>\n",
       "      <td>Queens</td>\n",
       "      <td>Douglaston</td>\n",
       "      <td>40.766846</td>\n",
       "      <td>-73.742498</td>\n",
       "      <td>8.5</td>\n",
       "    </tr>\n",
       "    <tr>\n",
       "      <td>3</td>\n",
       "      <td>Queens</td>\n",
       "      <td>Elmhurst</td>\n",
       "      <td>40.744049</td>\n",
       "      <td>-73.881656</td>\n",
       "      <td>8.5</td>\n",
       "    </tr>\n",
       "    <tr>\n",
       "      <td>4</td>\n",
       "      <td>Manhattan</td>\n",
       "      <td>Greenwich Village</td>\n",
       "      <td>40.726933</td>\n",
       "      <td>-73.999914</td>\n",
       "      <td>9.0</td>\n",
       "    </tr>\n",
       "    <tr>\n",
       "      <td>5</td>\n",
       "      <td>Manhattan</td>\n",
       "      <td>Hudson Yards</td>\n",
       "      <td>40.756658</td>\n",
       "      <td>-74.000111</td>\n",
       "      <td>8.8</td>\n",
       "    </tr>\n",
       "    <tr>\n",
       "      <td>6</td>\n",
       "      <td>Queens</td>\n",
       "      <td>Hunters Point</td>\n",
       "      <td>40.743414</td>\n",
       "      <td>-73.953868</td>\n",
       "      <td>8.5</td>\n",
       "    </tr>\n",
       "    <tr>\n",
       "      <td>7</td>\n",
       "      <td>Queens</td>\n",
       "      <td>Little Neck</td>\n",
       "      <td>40.770826</td>\n",
       "      <td>-73.738898</td>\n",
       "      <td>8.5</td>\n",
       "    </tr>\n",
       "    <tr>\n",
       "      <td>8</td>\n",
       "      <td>Bronx</td>\n",
       "      <td>Mott Haven</td>\n",
       "      <td>40.806239</td>\n",
       "      <td>-73.916100</td>\n",
       "      <td>8.8</td>\n",
       "    </tr>\n",
       "    <tr>\n",
       "      <td>9</td>\n",
       "      <td>Bronx</td>\n",
       "      <td>Port Morris</td>\n",
       "      <td>40.801664</td>\n",
       "      <td>-73.913221</td>\n",
       "      <td>8.8</td>\n",
       "    </tr>\n",
       "    <tr>\n",
       "      <td>10</td>\n",
       "      <td>Manhattan</td>\n",
       "      <td>West Village</td>\n",
       "      <td>40.734434</td>\n",
       "      <td>-74.006180</td>\n",
       "      <td>9.0</td>\n",
       "    </tr>\n",
       "  </tbody>\n",
       "</table>\n",
       "</div>"
      ],
      "text/plain": [
       "      Borough       Neighborhood   Latitude  Longitude  Average Rating\n",
       "0    Brooklyn           Bushwick  40.698116 -73.925258             8.5\n",
       "1   Manhattan            Clinton  40.759101 -73.996119             8.8\n",
       "2      Queens         Douglaston  40.766846 -73.742498             8.5\n",
       "3      Queens           Elmhurst  40.744049 -73.881656             8.5\n",
       "4   Manhattan  Greenwich Village  40.726933 -73.999914             9.0\n",
       "5   Manhattan       Hudson Yards  40.756658 -74.000111             8.8\n",
       "6      Queens      Hunters Point  40.743414 -73.953868             8.5\n",
       "7      Queens        Little Neck  40.770826 -73.738898             8.5\n",
       "8       Bronx         Mott Haven  40.806239 -73.916100             8.8\n",
       "9       Bronx        Port Morris  40.801664 -73.913221             8.8\n",
       "10  Manhattan       West Village  40.734434 -74.006180             9.0"
      ]
     },
     "execution_count": 134,
     "metadata": {},
     "output_type": "execute_result"
    }
   ],
   "source": [
    "ny_neighborhood_stats"
   ]
  },
  {
   "cell_type": "markdown",
   "metadata": {},
   "source": [
    "Finally, we plot the identified neighborhoods using Folium:"
   ]
  },
  {
   "cell_type": "code",
   "execution_count": 136,
   "metadata": {},
   "outputs": [],
   "source": [
    "ny_map = folium.Map(location=geo_location('New York'), zoom_start=12)"
   ]
  },
  {
   "cell_type": "code",
   "execution_count": 138,
   "metadata": {},
   "outputs": [
    {
     "data": {
      "text/html": [
       "<div style=\"width:100%;\"><div style=\"position:relative;width:100%;height:0;padding-bottom:60%;\"><span style=\"color:#565656\">Make this Notebook Trusted to load map: File -> Trust Notebook</span><iframe src=\"about:blank\" style=\"position:absolute;width:100%;height:100%;left:0;top:0;border:none !important;\" data-html=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 onload=\"this.contentDocument.open();this.contentDocument.write(atob(this.getAttribute('data-html')));this.contentDocument.close();\" allowfullscreen webkitallowfullscreen mozallowfullscreen></iframe></div></div>"
      ],
      "text/plain": [
       "<folium.folium.Map at 0xe752b4b7b8>"
      ]
     },
     "execution_count": 138,
     "metadata": {},
     "output_type": "execute_result"
    }
   ],
   "source": [
    "incidents = folium.map.FeatureGroup()\n",
    "\n",
    "for lat, lng, in ny_neighborhood_stats[['Latitude','Longitude']].values:\n",
    "    incidents.add_child(\n",
    "        folium.CircleMarker(\n",
    "            [lat, lng],\n",
    "            radius=10, # define how big you want the circle markers to be\n",
    "            color='yellow',\n",
    "            fill=True,\n",
    "            fill_color='blue',\n",
    "            fill_opacity=0.6\n",
    "        )\n",
    "    )\n",
    "\n",
    "ny_neighborhood_stats['Label']=ny_neighborhood_stats['Neighborhood']+', '+ny_neighborhood_stats['Borough']+'('+ny_neighborhood_stats['Average Rating'].map(str)+')'    \n",
    "\n",
    "for lat, lng, label in ny_neighborhood_stats[['Latitude','Longitude','Label']].values:\n",
    "    folium.Marker([lat, lng], popup=label).add_to(ny_map)        \n",
    "# add incidents to map\n",
    "ny_map.add_child(incidents)"
   ]
  },
  {
   "cell_type": "markdown",
   "metadata": {},
   "source": [
    "#### **Question 5: Which borough has the highest density of top-rated Peruvian restaurants?**"
   ]
  },
  {
   "cell_type": "markdown",
   "metadata": {},
   "source": [
    "**We can see in the map, that four highly rated restaurants can be found in Manhattan.**"
   ]
  },
  {
   "cell_type": "markdown",
   "metadata": {},
   "source": [
    "# Summary:"
   ]
  },
  {
   "cell_type": "markdown",
   "metadata": {},
   "source": [
    "### We can now summarize the answers we have found to our questions:"
   ]
  },
  {
   "cell_type": "markdown",
   "metadata": {},
   "source": [
    "**Question 1: How many Peruvian restaurants exist in New York City?**\n",
    "\n",
    "In June 2020, there are 51 Peruvian restaurants in New York City.\n",
    "\n",
    "**Question 2: Which borough and which neighborhood of New York City has the highest number of Peruvian restaurants?**\n",
    "\n",
    "The borough with the highest number of Peruvian restaurants is Queens with 24 restaurants in total. The neighborhood with the highest number of Peruvian restaurants is Jackson Heights which is located in Queens.\n",
    "\n",
    "**Question 3: Which is the best Peruvian restaurant in New York City?**\n",
    "\n",
    "The restaurant with the highest rating is Llama-San in Greenwich Village, Manhattan. The restaurant with the highest number of likes is Pio Pio which is also located in Manhattan (Clinton).\n",
    "\n",
    "**Question 4: Which borough and which neighborhood has the best Peruvian restaurants?**\n",
    "\n",
    "The neighborhoods with the highest rating are West Village and Greenwich Village. Both are in Manhattan and have an average rating of 9. But although Queens has the most Peruvian restaurants and although the best two neighborhoods are in Manhattan, the Bronx has the highest average rating.\n",
    "\n",
    "**Question 5: Which borough has the highest density of top-rated Peruvian restaurants?**\n",
    "\n",
    "Four highly rated restaurants are located relatively close to another in Manhattan so that this borough has the highest density of top Peruvian restaurants.\n"
   ]
  },
  {
   "cell_type": "code",
   "execution_count": null,
   "metadata": {},
   "outputs": [],
   "source": []
  }
 ],
 "metadata": {
  "kernelspec": {
   "display_name": "Python 3",
   "language": "python",
   "name": "python3"
  },
  "language_info": {
   "codemirror_mode": {
    "name": "ipython",
    "version": 3
   },
   "file_extension": ".py",
   "mimetype": "text/x-python",
   "name": "python",
   "nbconvert_exporter": "python",
   "pygments_lexer": "ipython3",
   "version": "3.7.3"
  }
 },
 "nbformat": 4,
 "nbformat_minor": 2
}
